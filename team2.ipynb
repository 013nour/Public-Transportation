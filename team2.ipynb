{
 "cells": [
  {
   "cell_type": "code",
   "execution_count": 289,
   "id": "150df867-bf70-42fd-9f08-565665056f7f",
   "metadata": {
    "tags": []
   },
   "outputs": [],
   "source": [
    "import pandas as pd\n",
    "import matplotlib.pyplot as plt\n",
    "import seaborn as sns \n",
    "import plotly.express as px\n",
    "\n",
    "import warnings\n",
    "warnings.filterwarnings(\"ignore\")"
   ]
  },
  {
   "cell_type": "code",
   "execution_count": 58,
   "id": "5c5c7f8c-4e64-459c-818b-34cd2fd8f58d",
   "metadata": {
    "tags": []
   },
   "outputs": [],
   "source": [
    "def TypeConverter(lst_of_cols, dataset, data_type):\n",
    "        for i in lst_of_cols:\n",
    "            dataset[i] = dataset[i].astype(data_type)"
   ]
  },
  {
   "cell_type": "code",
   "execution_count": 60,
   "id": "a633f1bb-5657-4d5b-a5f2-ac2f790a9088",
   "metadata": {
    "tags": []
   },
   "outputs": [
    {
     "data": {
      "text/html": [
       "<div>\n",
       "<style scoped>\n",
       "    .dataframe tbody tr th:only-of-type {\n",
       "        vertical-align: middle;\n",
       "    }\n",
       "\n",
       "    .dataframe tbody tr th {\n",
       "        vertical-align: top;\n",
       "    }\n",
       "\n",
       "    .dataframe thead th {\n",
       "        text-align: right;\n",
       "    }\n",
       "</style>\n",
       "<table border=\"1\" class=\"dataframe\">\n",
       "  <thead>\n",
       "    <tr style=\"text-align: right;\">\n",
       "      <th></th>\n",
       "      <th>car_brand</th>\n",
       "      <th>car_model</th>\n",
       "      <th>car_driven</th>\n",
       "      <th>car_transmission</th>\n",
       "      <th>car_model_year</th>\n",
       "      <th>car_price</th>\n",
       "    </tr>\n",
       "  </thead>\n",
       "  <tbody>\n",
       "    <tr>\n",
       "      <th>0</th>\n",
       "      <td>Hyundai</td>\n",
       "      <td>Tucson</td>\n",
       "      <td>83491.0</td>\n",
       "      <td>Automatic</td>\n",
       "      <td>2018</td>\n",
       "      <td>64000.0</td>\n",
       "    </tr>\n",
       "    <tr>\n",
       "      <th>1</th>\n",
       "      <td>Chevrolet</td>\n",
       "      <td>Trailblazer</td>\n",
       "      <td>222000.0</td>\n",
       "      <td>Automatic</td>\n",
       "      <td>2009</td>\n",
       "      <td>20000.0</td>\n",
       "    </tr>\n",
       "    <tr>\n",
       "      <th>2</th>\n",
       "      <td>Great</td>\n",
       "      <td>Wall</td>\n",
       "      <td>0.0</td>\n",
       "      <td>Automatic</td>\n",
       "      <td>2022</td>\n",
       "      <td>135000.0</td>\n",
       "    </tr>\n",
       "    <tr>\n",
       "      <th>3</th>\n",
       "      <td>Ford</td>\n",
       "      <td>Fusion</td>\n",
       "      <td>178000.0</td>\n",
       "      <td>Automatic</td>\n",
       "      <td>2012</td>\n",
       "      <td>23000.0</td>\n",
       "    </tr>\n",
       "    <tr>\n",
       "      <th>4</th>\n",
       "      <td>Mitsubishi</td>\n",
       "      <td>Attrage</td>\n",
       "      <td>10500.0</td>\n",
       "      <td>Automatic</td>\n",
       "      <td>2020</td>\n",
       "      <td>32000.0</td>\n",
       "    </tr>\n",
       "    <tr>\n",
       "      <th>...</th>\n",
       "      <td>...</td>\n",
       "      <td>...</td>\n",
       "      <td>...</td>\n",
       "      <td>...</td>\n",
       "      <td>...</td>\n",
       "      <td>...</td>\n",
       "    </tr>\n",
       "    <tr>\n",
       "      <th>2282</th>\n",
       "      <td>BMW</td>\n",
       "      <td>7</td>\n",
       "      <td>99000.0</td>\n",
       "      <td>Automatic</td>\n",
       "      <td>2015</td>\n",
       "      <td>103000.0</td>\n",
       "    </tr>\n",
       "    <tr>\n",
       "      <th>2283</th>\n",
       "      <td>Ford</td>\n",
       "      <td>Expedition</td>\n",
       "      <td>33000.0</td>\n",
       "      <td>Automatic</td>\n",
       "      <td>2018</td>\n",
       "      <td>185000.0</td>\n",
       "    </tr>\n",
       "    <tr>\n",
       "      <th>2284</th>\n",
       "      <td>Chevrolet</td>\n",
       "      <td>Tahoe</td>\n",
       "      <td>48000.0</td>\n",
       "      <td>Automatic</td>\n",
       "      <td>2018</td>\n",
       "      <td>135000.0</td>\n",
       "    </tr>\n",
       "    <tr>\n",
       "      <th>2285</th>\n",
       "      <td>Chevrolet</td>\n",
       "      <td>Tahoe</td>\n",
       "      <td>50000.0</td>\n",
       "      <td>Automatic</td>\n",
       "      <td>2018</td>\n",
       "      <td>135000.0</td>\n",
       "    </tr>\n",
       "    <tr>\n",
       "      <th>2286</th>\n",
       "      <td>Hyundai</td>\n",
       "      <td>Sonata</td>\n",
       "      <td>76000.0</td>\n",
       "      <td>Automatic</td>\n",
       "      <td>2016</td>\n",
       "      <td>73000.0</td>\n",
       "    </tr>\n",
       "  </tbody>\n",
       "</table>\n",
       "<p>2287 rows × 6 columns</p>\n",
       "</div>"
      ],
      "text/plain": [
       "       car_brand    car_model  car_driven car_transmission  car_model_year  \\\n",
       "0        Hyundai       Tucson     83491.0        Automatic            2018   \n",
       "1      Chevrolet  Trailblazer    222000.0        Automatic            2009   \n",
       "2          Great         Wall         0.0        Automatic            2022   \n",
       "3           Ford       Fusion    178000.0        Automatic            2012   \n",
       "4     Mitsubishi      Attrage     10500.0        Automatic            2020   \n",
       "...          ...          ...         ...              ...             ...   \n",
       "2282         BMW            7     99000.0        Automatic            2015   \n",
       "2283        Ford   Expedition     33000.0        Automatic            2018   \n",
       "2284   Chevrolet        Tahoe     48000.0        Automatic            2018   \n",
       "2285   Chevrolet        Tahoe     50000.0        Automatic            2018   \n",
       "2286     Hyundai       Sonata     76000.0        Automatic            2016   \n",
       "\n",
       "      car_price  \n",
       "0       64000.0  \n",
       "1       20000.0  \n",
       "2      135000.0  \n",
       "3       23000.0  \n",
       "4       32000.0  \n",
       "...         ...  \n",
       "2282   103000.0  \n",
       "2283   185000.0  \n",
       "2284   135000.0  \n",
       "2285   135000.0  \n",
       "2286    73000.0  \n",
       "\n",
       "[2287 rows x 6 columns]"
      ]
     },
     "execution_count": 60,
     "metadata": {},
     "output_type": "execute_result"
    }
   ],
   "source": [
    "cars = pd.read_csv(\"used_car_cleaned.csv\")\n",
    "cars"
   ]
  },
  {
   "cell_type": "code",
   "execution_count": 187,
   "id": "aa30f152-7c91-42be-97e7-1eec8794b1c6",
   "metadata": {
    "tags": []
   },
   "outputs": [
    {
     "data": {
      "text/html": [
       "<div>\n",
       "<style scoped>\n",
       "    .dataframe tbody tr th:only-of-type {\n",
       "        vertical-align: middle;\n",
       "    }\n",
       "\n",
       "    .dataframe tbody tr th {\n",
       "        vertical-align: top;\n",
       "    }\n",
       "\n",
       "    .dataframe thead th {\n",
       "        text-align: right;\n",
       "    }\n",
       "</style>\n",
       "<table border=\"1\" class=\"dataframe\">\n",
       "  <thead>\n",
       "    <tr style=\"text-align: right;\">\n",
       "      <th></th>\n",
       "      <th>Region</th>\n",
       "      <th>Year</th>\n",
       "      <th>Gender</th>\n",
       "      <th>Nationality</th>\n",
       "      <th>Population estimates</th>\n",
       "    </tr>\n",
       "  </thead>\n",
       "  <tbody>\n",
       "    <tr>\n",
       "      <th>0</th>\n",
       "      <td>Madinah</td>\n",
       "      <td>2,014</td>\n",
       "      <td>Female</td>\n",
       "      <td>Saudi</td>\n",
       "      <td>562,344</td>\n",
       "    </tr>\n",
       "    <tr>\n",
       "      <th>1</th>\n",
       "      <td>Tabouk</td>\n",
       "      <td>2,010</td>\n",
       "      <td>Female</td>\n",
       "      <td>Saudi</td>\n",
       "      <td>239,792</td>\n",
       "    </tr>\n",
       "    <tr>\n",
       "      <th>2</th>\n",
       "      <td>Hail</td>\n",
       "      <td>2,013</td>\n",
       "      <td>Female</td>\n",
       "      <td>Saudi</td>\n",
       "      <td>211,727</td>\n",
       "    </tr>\n",
       "    <tr>\n",
       "      <th>3</th>\n",
       "      <td>Eastern Region</td>\n",
       "      <td>2,016</td>\n",
       "      <td>Male</td>\n",
       "      <td>Saudi</td>\n",
       "      <td>1,308,467</td>\n",
       "    </tr>\n",
       "    <tr>\n",
       "      <th>4</th>\n",
       "      <td>Al-Baha</td>\n",
       "      <td>2,018</td>\n",
       "      <td>Female</td>\n",
       "      <td>Non-Saudi</td>\n",
       "      <td>16,951</td>\n",
       "    </tr>\n",
       "    <tr>\n",
       "      <th>...</th>\n",
       "      <td>...</td>\n",
       "      <td>...</td>\n",
       "      <td>...</td>\n",
       "      <td>...</td>\n",
       "      <td>...</td>\n",
       "    </tr>\n",
       "    <tr>\n",
       "      <th>671</th>\n",
       "      <td>Makkah</td>\n",
       "      <td>2,015</td>\n",
       "      <td>Male</td>\n",
       "      <td>Saudi</td>\n",
       "      <td>1,756,374</td>\n",
       "    </tr>\n",
       "    <tr>\n",
       "      <th>672</th>\n",
       "      <td>Al-Baha</td>\n",
       "      <td>2,015</td>\n",
       "      <td>Male</td>\n",
       "      <td>Saudi</td>\n",
       "      <td>104,524</td>\n",
       "    </tr>\n",
       "    <tr>\n",
       "      <th>673</th>\n",
       "      <td>Madinah</td>\n",
       "      <td>2,021</td>\n",
       "      <td>Male</td>\n",
       "      <td>Saudi</td>\n",
       "      <td>658,453</td>\n",
       "    </tr>\n",
       "    <tr>\n",
       "      <th>674</th>\n",
       "      <td>Tabouk</td>\n",
       "      <td>2,020</td>\n",
       "      <td>Female</td>\n",
       "      <td>Non-Saudi</td>\n",
       "      <td>44,416</td>\n",
       "    </tr>\n",
       "    <tr>\n",
       "      <th>675</th>\n",
       "      <td>Makkah</td>\n",
       "      <td>2,015</td>\n",
       "      <td>Female</td>\n",
       "      <td>Saudi</td>\n",
       "      <td>1,753,158</td>\n",
       "    </tr>\n",
       "  </tbody>\n",
       "</table>\n",
       "<p>676 rows × 5 columns</p>\n",
       "</div>"
      ],
      "text/plain": [
       "             Region   Year  Gender Nationality Population estimates\n",
       "0           Madinah  2,014  Female       Saudi              562,344\n",
       "1            Tabouk  2,010  Female       Saudi              239,792\n",
       "2              Hail  2,013  Female       Saudi              211,727\n",
       "3    Eastern Region  2,016    Male       Saudi            1,308,467\n",
       "4           Al-Baha  2,018  Female   Non-Saudi               16,951\n",
       "..              ...    ...     ...         ...                  ...\n",
       "671          Makkah  2,015    Male       Saudi            1,756,374\n",
       "672         Al-Baha  2,015    Male       Saudi              104,524\n",
       "673         Madinah  2,021    Male       Saudi              658,453\n",
       "674          Tabouk  2,020  Female   Non-Saudi               44,416\n",
       "675          Makkah  2,015  Female       Saudi            1,753,158\n",
       "\n",
       "[676 rows x 5 columns]"
      ]
     },
     "execution_count": 187,
     "metadata": {},
     "output_type": "execute_result"
    }
   ],
   "source": [
    "Population = pd.read_csv(\"Population_estimates_by_gender_nationality_and_region_2010_-_2022_data.csv\")\n",
    "Population"
   ]
  },
  {
   "cell_type": "markdown",
   "id": "7e4468c5-93c3-4ff6-b780-50b516a4aa71",
   "metadata": {},
   "source": [
    "- عدد الكثافة السكانية\n",
    "- عدد السيارات في المملكة"
   ]
  },
  {
   "cell_type": "code",
   "execution_count": 188,
   "id": "3e21df67-8b61-4d10-83ee-6e3045c92cc1",
   "metadata": {
    "tags": []
   },
   "outputs": [
    {
     "data": {
      "text/plain": [
       "Region                  object\n",
       "Year                    object\n",
       "Gender                  object\n",
       "Nationality             object\n",
       "Population estimates    object\n",
       "dtype: object"
      ]
     },
     "execution_count": 188,
     "metadata": {},
     "output_type": "execute_result"
    }
   ],
   "source": [
    "Population.dtypes"
   ]
  },
  {
   "cell_type": "code",
   "execution_count": 189,
   "id": "4d1a9627-b2ef-4de0-8e42-04d898415074",
   "metadata": {
    "tags": []
   },
   "outputs": [
    {
     "data": {
      "text/plain": [
       "Region                    object\n",
       "Year                       int64\n",
       "Gender                  category\n",
       "Nationality             category\n",
       "Population estimates       int64\n",
       "dtype: object"
      ]
     },
     "execution_count": 189,
     "metadata": {},
     "output_type": "execute_result"
    }
   ],
   "source": [
    "Population['Population estimates'] = Population['Population estimates'].str.replace(',', '')\n",
    "Population['Year'] = Population['Year'].str.replace(',', '')\n",
    "\n",
    "categorical = ['Gender', 'Nationality']\n",
    "Integers = ['Population estimates', 'Year']\n",
    "TypeConverter(categorical, Population, 'category')\n",
    "TypeConverter(Integers, Population, 'int64')\n",
    "Population.dtypes"
   ]
  },
  {
   "cell_type": "code",
   "execution_count": 197,
   "id": "d08ce82a-c4b0-4d38-a190-0f6a2c1ef3ac",
   "metadata": {
    "tags": []
   },
   "outputs": [
    {
     "data": {
      "text/plain": [
       "Region\n",
       "Riyadh             100108018\n",
       "Makkah              97544500\n",
       "Eastern Region      58941043\n",
       "Madinah             25186608\n",
       "Aseer               23173451\n",
       "Jazan               16404516\n",
       "Qaseem              15858861\n",
       "Tabouk              10099350\n",
       "Hail                 8444937\n",
       "Al-Jouf              6904050\n",
       "Najran               6761355\n",
       "Northern Region      4263617\n",
       "Al-Baha              4002318\n",
       "Name: Population estimates, dtype: int64"
      ]
     },
     "execution_count": 197,
     "metadata": {},
     "output_type": "execute_result"
    }
   ],
   "source": [
    "x = Population.groupby('Region')['Population estimates'].sum()\n",
    "x = x.sort_values(ascending=False)\n",
    "x"
   ]
  },
  {
   "cell_type": "code",
   "execution_count": 198,
   "id": "2bfb7c5b-3980-4414-910a-1f3341158e5b",
   "metadata": {
    "tags": []
   },
   "outputs": [
    {
     "data": {
      "image/png": "[encoded data removed]",
      "text/plain": [
       "<Figure size 800x800 with 1 Axes>"
      ]
     },
     "metadata": {},
     "output_type": "display_data"
    }
   ],
   "source": [
    "sns.set(font_scale = 1.2)\n",
    "plt.figure(figsize=(8,8))\n",
    "\n",
    "plt.pie(\n",
    "    x=x[:5].values, \n",
    "    labels=x[:5].index,\n",
    "    autopct='%1.2f%%',\n",
    "    colors=sns.color_palette('Set2'),\n",
    "    shadow=True\n",
    ")\n",
    "plt.title(\"Top 5 cities with highest Population between the year 2010-2022\")\n",
    "plt.show()"
   ]
  },
  {
   "cell_type": "code",
   "execution_count": 291,
   "id": "d0c7a6f3-9e6c-4902-90e3-3098b11d282b",
   "metadata": {
    "tags": []
   },
   "outputs": [
    {
     "data": {
      "application/vnd.plotly.v1+json": {
       "config": {
        "plotlyServerURL": "https://plot.ly"
       },
       "data": [
        {
         "alignmentgroup": "True",
         "hovertemplate": "Nationality=Saudi<br>Region=%{x}<br>Population estimates=%{y}<extra></extra>",
         "legendgroup": "Saudi",
         "marker": {
          "color": "#636efa",
          "pattern": {
           "shape": ""
          }
         },
         "name": "Saudi",
         "offsetgroup": "Saudi",
         "orientation": "v",
         "showlegend": true,
         "textposition": "auto",
         "type": "bar",
         "x": [
          "Madinah",
          "Tabouk",
          "Hail",
          "Eastern Region",
          "Al-Jouf",
          "Madinah",
          "Qaseem",
          "Najran",
          "Madinah",
          "Madinah",
          "Qaseem",
          "Al-Jouf",
          "Makkah",
          "Madinah",
          "Riyadh",
          "Makkah",
          "Qaseem",
          "Tabouk",
          "Najran",
          "Tabouk",
          "Eastern Region",
          "Riyadh",
          "Riyadh",
          "Qaseem",
          "Riyadh",
          "Qaseem",
          "Tabouk",
          "Makkah",
          "Tabouk",
          "Al-Baha",
          "Al-Baha",
          "Qaseem",
          "Aseer",
          "Aseer",
          "Riyadh",
          "Tabouk",
          "Najran",
          "Northern Region",
          "Jazan",
          "Hail",
          "Makkah",
          "Eastern Region",
          "Riyadh",
          "Hail",
          "Aseer",
          "Al-Baha",
          "Najran",
          "Eastern Region",
          "Makkah",
          "Eastern Region",
          "Qaseem",
          "Northern Region",
          "Al-Jouf",
          "Madinah",
          "Qaseem",
          "Najran",
          "Madinah",
          "Riyadh",
          "Tabouk",
          "Madinah",
          "Jazan",
          "Madinah",
          "Tabouk",
          "Northern Region",
          "Tabouk",
          "Al-Baha",
          "Jazan",
          "Northern Region",
          "Tabouk",
          "Hail",
          "Makkah",
          "Hail",
          "Makkah",
          "Northern Region",
          "Qaseem",
          "Tabouk",
          "Hail",
          "Najran",
          "Northern Region",
          "Aseer",
          "Aseer",
          "Al-Baha",
          "Makkah",
          "Najran",
          "Al-Jouf",
          "Jazan",
          "Al-Baha",
          "Aseer",
          "Makkah",
          "Qaseem",
          "Jazan",
          "Najran",
          "Northern Region",
          "Madinah",
          "Jazan",
          "Riyadh",
          "Madinah",
          "Northern Region",
          "Jazan",
          "Eastern Region",
          "Najran",
          "Najran",
          "Aseer",
          "Al-Jouf",
          "Najran",
          "Hail",
          "Eastern Region",
          "Aseer",
          "Al-Jouf",
          "Madinah",
          "Riyadh",
          "Northern Region",
          "Northern Region",
          "Al-Baha",
          "Al-Baha",
          "Riyadh",
          "Hail",
          "Hail",
          "Qaseem",
          "Qaseem",
          "Makkah",
          "Eastern Region",
          "Eastern Region",
          "Tabouk",
          "Makkah",
          "Madinah",
          "Al-Baha",
          "Jazan",
          "Al-Jouf",
          "Eastern Region",
          "Madinah",
          "Riyadh",
          "Eastern Region",
          "Qaseem",
          "Qaseem",
          "Aseer",
          "Northern Region",
          "Jazan",
          "Qaseem",
          "Makkah",
          "Aseer",
          "Al-Jouf",
          "Tabouk",
          "Al-Jouf",
          "Northern Region",
          "Madinah",
          "Aseer",
          "Madinah",
          "Al-Baha",
          "Al-Jouf",
          "Hail",
          "Qaseem",
          "Aseer",
          "Jazan",
          "Najran",
          "Aseer",
          "Qaseem",
          "Aseer",
          "Eastern Region",
          "Najran",
          "Makkah",
          "Jazan",
          "Najran",
          "Tabouk",
          "Al-Jouf",
          "Jazan",
          "Qaseem",
          "Al-Baha",
          "Madinah",
          "Madinah",
          "Riyadh",
          "Riyadh",
          "Qaseem",
          "Northern Region",
          "Aseer",
          "Riyadh",
          "Jazan",
          "Tabouk",
          "Makkah",
          "Jazan",
          "Najran",
          "Eastern Region",
          "Aseer",
          "Al-Baha",
          "Riyadh",
          "Aseer",
          "Najran",
          "Najran",
          "Makkah",
          "Eastern Region",
          "Qaseem",
          "Riyadh",
          "Al-Baha",
          "Qaseem",
          "Eastern Region",
          "Makkah",
          "Hail",
          "Aseer",
          "Northern Region",
          "Al-Jouf",
          "Aseer",
          "Tabouk",
          "Hail",
          "Najran",
          "Madinah",
          "Jazan",
          "Madinah",
          "Najran",
          "Najran",
          "Tabouk",
          "Qaseem",
          "Jazan",
          "Northern Region",
          "Eastern Region",
          "Al-Baha",
          "Eastern Region",
          "Jazan",
          "Aseer",
          "Northern Region",
          "Riyadh",
          "Hail",
          "Northern Region",
          "Al-Baha",
          "Najran",
          "Al-Jouf",
          "Al-Baha",
          "Makkah",
          "Eastern Region",
          "Jazan",
          "Hail",
          "Al-Baha",
          "Al-Jouf",
          "Aseer",
          "Riyadh",
          "Jazan",
          "Eastern Region",
          "Riyadh",
          "Qaseem",
          "Hail",
          "Northern Region",
          "Northern Region",
          "Qaseem",
          "Aseer",
          "Najran",
          "Al-Baha",
          "Madinah",
          "Hail",
          "Qaseem",
          "Al-Jouf",
          "Makkah",
          "Hail",
          "Northern Region",
          "Tabouk",
          "Al-Jouf",
          "Najran",
          "Qaseem",
          "Riyadh",
          "Makkah",
          "Najran",
          "Eastern Region",
          "Tabouk",
          "Aseer",
          "Eastern Region",
          "Al-Jouf",
          "Tabouk",
          "Eastern Region",
          "Hail",
          "Tabouk",
          "Madinah",
          "Al-Jouf",
          "Riyadh",
          "Northern Region",
          "Aseer",
          "Jazan",
          "Tabouk",
          "Northern Region",
          "Al-Jouf",
          "Hail",
          "Al-Baha",
          "Madinah",
          "Eastern Region",
          "Makkah",
          "Aseer",
          "Jazan",
          "Riyadh",
          "Aseer",
          "Northern Region",
          "Riyadh",
          "Hail",
          "Al-Baha",
          "Jazan",
          "Makkah",
          "Riyadh",
          "Madinah",
          "Jazan",
          "Al-Jouf",
          "Northern Region",
          "Al-Jouf",
          "Jazan",
          "Eastern Region",
          "Al-Baha",
          "Tabouk",
          "Hail",
          "Tabouk",
          "Al-Jouf",
          "Hail",
          "Al-Jouf",
          "Al-Baha",
          "Hail",
          "Northern Region",
          "Al-Jouf",
          "Madinah",
          "Northern Region",
          "Riyadh",
          "Eastern Region",
          "Riyadh",
          "Al-Jouf",
          "Jazan",
          "Hail",
          "Najran",
          "Makkah",
          "Makkah",
          "Al-Baha",
          "Hail",
          "Al-Baha",
          "Eastern Region",
          "Makkah",
          "Tabouk",
          "Najran",
          "Tabouk",
          "Hail",
          "Jazan",
          "Al-Jouf",
          "Al-Baha",
          "Makkah",
          "Al-Baha",
          "Madinah",
          "Makkah"
         ],
         "xaxis": "x",
         "y": [
          562344,
          239792,
          211727,
          1308467,
          181436,
          546260,
          451061,
          156915,
          613235,
          628057,
          461032,
          173361,
          2073878,
          633571,
          2197165,
          1703946,
          429850,
          244726,
          185115,
          309466,
          1284399,
          1948993,
          1988653,
          422996,
          2148761,
          384306,
          321704,
          1707937,
          263944,
          94797,
          92422,
          353873,
          677910,
          638272,
          1951078,
          254504,
          161411,
          120146,
          477821,
          236237,
          1981969,
          1171807,
          1758368,
          262778,
          701135,
          106956,
          185427,
          1382219,
          2079845,
          1335326,
          419545,
          123943,
          195224,
          529499,
          362068,
          181278,
          509074,
          1669970,
          289200,
          604703,
          375471,
          559725,
          248842,
          111421,
          256629,
          110757,
          415289,
          133588,
          293945,
          199934,
          1570069,
          231701,
          1541652,
          125029,
          355120,
          283010,
          223897,
          177411,
          122394,
          612226,
          686327,
          122365,
          1835981,
          177215,
          191142,
          503886,
          113257,
          584082,
          1798985,
          410211,
          437497,
          160858,
          129777,
          618598,
          457451,
          1746263,
          543503,
          131023,
          454221,
          1444796,
          166042,
          197668,
          569003,
          220359,
          174112,
          208594,
          1439974,
          696103,
          211750,
          588122,
          1811466,
          117567,
          116221,
          101946,
          94235,
          1635160,
          229345,
          234193,
          371679,
          404745,
          1611601,
          1505058,
          1471933,
          295842,
          1931101,
          574828,
          117530,
          425816,
          212298,
          1277468,
          577855,
          2100681,
          1226344,
          394991,
          393229,
          668468,
          106296,
          481453,
          465458,
          1879826,
          712009,
          190315,
          287581,
          169397,
          104306,
          592006,
          601145,
          507527,
          104998,
          170202,
          197414,
          433415,
          564774,
          447014,
          169708,
          626115,
          455121,
          541748,
          1242148,
          193787,
          2027109,
          376086,
          150396,
          270975,
          202611,
          444104,
          382811,
          114395,
          672749,
          644698,
          1903165,
          2144437,
          444914,
          121315,
          617900,
          1862723,
          426901,
          308645,
          1838533,
          403310,
          181060,
          1256995,
          728200,
          128405,
          1909357,
          555911,
          157421,
          193396,
          1656215,
          1192754,
          347561,
          1850887,
          116010,
          347002,
          1101214,
          1535534,
          206313,
          552283,
          132401,
          216252,
          661721,
          282196,
          259504,
          197308,
          532216,
          488180,
          517557,
          170333,
          190039,
          303140,
          402308,
          435600,
          136267,
          1127648,
          96365,
          1204401,
          498893,
          596354,
          107497,
          1996692,
          257139,
          135091,
          109065,
          154018,
          177107,
          96899,
          1882931,
          1314470,
          383658,
          203902,
          119001,
          194629,
          633035,
          2192321,
          402666,
          1143956,
          1704831,
          373193,
          254097,
          105154,
          110175,
          413455,
          716488,
          173674,
          98881,
          650123,
          226447,
          441421,
          207354,
          1573573,
          245264,
          118914,
          250276,
          172724,
          189598,
          363544,
          1711976,
          1798091,
          151112,
          1346677,
          315897,
          544163,
          1366995,
          219905,
          315045,
          1413447,
          201625,
          261129,
          679397,
          198447,
          1794724,
          114609,
          646707,
          383516,
          244052,
          127864,
          206987,
          251585,
          99234,
          599638,
          1401278,
          1608752,
          579440,
          414604,
          2046070,
          652700,
          108664,
          2035530,
          241617,
          125345,
          492571,
          1927746,
          2086662,
          664660,
          468778,
          176392,
          126707,
          215787,
          392305,
          1157930,
          122883,
          277342,
          214109,
          268809,
          185605,
          239508,
          202935,
          108025,
          220505,
          103078,
          180666,
          519999,
          113247,
          1671318,
          1077728,
          2242045,
          198781,
          392808,
          265107,
          165373,
          1653242,
          1984600,
          120156,
          217924,
          111589,
          1120586,
          2032042,
          275939,
          153469,
          300852,
          247491,
          465289,
          186470,
          101794,
          1756374,
          104524,
          658453,
          1753158
         ],
         "yaxis": "y"
        },
        {
         "alignmentgroup": "True",
         "hovertemplate": "Nationality=Non-Saudi<br>Region=%{x}<br>Population estimates=%{y}<extra></extra>",
         "legendgroup": "Non-Saudi",
         "marker": {
          "color": "#EF553B",
          "pattern": {
           "shape": ""
          }
         },
         "name": "Non-Saudi",
         "offsetgroup": "Non-Saudi",
         "orientation": "v",
         "showlegend": true,
         "textposition": "auto",
         "type": "bar",
         "x": [
          "Al-Baha",
          "Northern Region",
          "Northern Region",
          "Eastern Region",
          "Qaseem",
          "Al-Baha",
          "Riyadh",
          "Jazan",
          "Aseer",
          "Eastern Region",
          "Al-Baha",
          "Riyadh",
          "Aseer",
          "Northern Region",
          "Eastern Region",
          "Tabouk",
          "Madinah",
          "Riyadh",
          "Najran",
          "Tabouk",
          "Al-Baha",
          "Northern Region",
          "Jazan",
          "Jazan",
          "Makkah",
          "Makkah",
          "Qaseem",
          "Madinah",
          "Tabouk",
          "Najran",
          "Makkah",
          "Riyadh",
          "Najran",
          "Al-Baha",
          "Hail",
          "Al-Jouf",
          "Madinah",
          "Najran",
          "Al-Baha",
          "Makkah",
          "Jazan",
          "Jazan",
          "Northern Region",
          "Eastern Region",
          "Riyadh",
          "Aseer",
          "Aseer",
          "Al-Jouf",
          "Al-Baha",
          "Riyadh",
          "Riyadh",
          "Najran",
          "Al-Baha",
          "Makkah",
          "Madinah",
          "Al-Baha",
          "Tabouk",
          "Northern Region",
          "Hail",
          "Qaseem",
          "Jazan",
          "Qaseem",
          "Madinah",
          "Hail",
          "Riyadh",
          "Najran",
          "Al-Jouf",
          "Eastern Region",
          "Eastern Region",
          "Aseer",
          "Tabouk",
          "Hail",
          "Qaseem",
          "Aseer",
          "Najran",
          "Jazan",
          "Al-Baha",
          "Aseer",
          "Tabouk",
          "Al-Baha",
          "Najran",
          "Aseer",
          "Hail",
          "Jazan",
          "Eastern Region",
          "Qaseem",
          "Makkah",
          "Northern Region",
          "Hail",
          "Makkah",
          "Eastern Region",
          "Najran",
          "Riyadh",
          "Riyadh",
          "Riyadh",
          "Madinah",
          "Madinah",
          "Aseer",
          "Al-Baha",
          "Al-Baha",
          "Najran",
          "Jazan",
          "Riyadh",
          "Hail",
          "Riyadh",
          "Eastern Region",
          "Hail",
          "Eastern Region",
          "Northern Region",
          "Jazan",
          "Al-Baha",
          "Jazan",
          "Qaseem",
          "Tabouk",
          "Qaseem",
          "Al-Baha",
          "Aseer",
          "Riyadh",
          "Eastern Region",
          "Hail",
          "Tabouk",
          "Hail",
          "Qaseem",
          "Eastern Region",
          "Eastern Region",
          "Qaseem",
          "Tabouk",
          "Al-Jouf",
          "Riyadh",
          "Riyadh",
          "Qaseem",
          "Makkah",
          "Aseer",
          "Aseer",
          "Madinah",
          "Northern Region",
          "Makkah",
          "Makkah",
          "Hail",
          "Madinah",
          "Northern Region",
          "Tabouk",
          "Najran",
          "Aseer",
          "Makkah",
          "Al-Jouf",
          "Makkah",
          "Najran",
          "Tabouk",
          "Al-Jouf",
          "Al-Jouf",
          "Al-Baha",
          "Madinah",
          "Jazan",
          "Al-Jouf",
          "Riyadh",
          "Northern Region",
          "Qaseem",
          "Northern Region",
          "Al-Baha",
          "Tabouk",
          "Jazan",
          "Madinah",
          "Al-Jouf",
          "Hail",
          "Najran",
          "Najran",
          "Al-Baha",
          "Hail",
          "Jazan",
          "Riyadh",
          "Tabouk",
          "Tabouk",
          "Riyadh",
          "Tabouk",
          "Northern Region",
          "Najran",
          "Eastern Region",
          "Madinah",
          "Makkah",
          "Makkah",
          "Najran",
          "Al-Baha",
          "Najran",
          "Jazan",
          "Qaseem",
          "Tabouk",
          "Northern Region",
          "Al-Baha",
          "Makkah",
          "Najran",
          "Al-Baha",
          "Najran",
          "Jazan",
          "Makkah",
          "Makkah",
          "Madinah",
          "Aseer",
          "Aseer",
          "Hail",
          "Aseer",
          "Najran",
          "Qaseem",
          "Najran",
          "Tabouk",
          "Aseer",
          "Madinah",
          "Tabouk",
          "Madinah",
          "Al-Baha",
          "Al-Jouf",
          "Al-Jouf",
          "Al-Jouf",
          "Eastern Region",
          "Riyadh",
          "Makkah",
          "Madinah",
          "Madinah",
          "Madinah",
          "Makkah",
          "Al-Baha",
          "Eastern Region",
          "Al-Baha",
          "Qaseem",
          "Jazan",
          "Riyadh",
          "Al-Jouf",
          "Jazan",
          "Al-Jouf",
          "Northern Region",
          "Northern Region",
          "Northern Region",
          "Jazan",
          "Tabouk",
          "Aseer",
          "Hail",
          "Al-Jouf",
          "Hail",
          "Jazan",
          "Eastern Region",
          "Eastern Region",
          "Makkah",
          "Makkah",
          "Madinah",
          "Northern Region",
          "Qaseem",
          "Aseer",
          "Northern Region",
          "Al-Jouf",
          "Riyadh",
          "Hail",
          "Jazan",
          "Eastern Region",
          "Qaseem",
          "Aseer",
          "Eastern Region",
          "Tabouk",
          "Aseer",
          "Jazan",
          "Northern Region",
          "Hail",
          "Riyadh",
          "Najran",
          "Riyadh",
          "Northern Region",
          "Najran",
          "Riyadh",
          "Najran",
          "Northern Region",
          "Al-Jouf",
          "Aseer",
          "Hail",
          "Jazan",
          "Al-Jouf",
          "Tabouk",
          "Aseer",
          "Qaseem",
          "Eastern Region",
          "Eastern Region",
          "Madinah",
          "Northern Region",
          "Tabouk",
          "Madinah",
          "Jazan",
          "Hail",
          "Aseer",
          "Madinah",
          "Qaseem",
          "Al-Jouf",
          "Qaseem",
          "Eastern Region",
          "Northern Region",
          "Hail",
          "Makkah",
          "Makkah",
          "Qaseem",
          "Qaseem",
          "Eastern Region",
          "Jazan",
          "Makkah",
          "Madinah",
          "Northern Region",
          "Madinah",
          "Al-Jouf",
          "Riyadh",
          "Jazan",
          "Al-Jouf",
          "Al-Baha",
          "Tabouk",
          "Al-Jouf",
          "Eastern Region",
          "Hail",
          "Madinah",
          "Madinah",
          "Al-Jouf",
          "Qaseem",
          "Qaseem",
          "Najran",
          "Hail",
          "Qaseem",
          "Northern Region",
          "Al-Jouf",
          "Makkah",
          "Makkah",
          "Hail",
          "Al-Jouf",
          "Tabouk",
          "Tabouk",
          "Al-Jouf",
          "Eastern Region",
          "Qaseem",
          "Aseer",
          "Hail",
          "Aseer",
          "Hail",
          "Al-Baha",
          "Najran",
          "Tabouk"
         ],
         "xaxis": "x",
         "y": [
          16951,
          21111,
          21056,
          347508,
          377965,
          69631,
          1012243,
          108131,
          86040,
          410580,
          18333,
          909928,
          92727,
          68037,
          1609979,
          42458,
          646360,
          2348331,
          156000,
          42964,
          16209,
          73503,
          297971,
          97252,
          1107492,
          1062692,
          83675,
          558493,
          35867,
          45978,
          1053771,
          2855565,
          112311,
          59029,
          147553,
          26546,
          183087,
          40343,
          17508,
          1199669,
          103302,
          275880,
          18721,
          324272,
          2891361,
          334823,
          94571,
          92164,
          81945,
          936085,
          2122121,
          41338,
          16752,
          2582311,
          188259,
          18323,
          205977,
          22741,
          172985,
          345482,
          101035,
          340886,
          421795,
          29089,
          3124464,
          153138,
          126144,
          395711,
          1736772,
          97456,
          43610,
          165334,
          81928,
          100638,
          43408,
          100532,
          17682,
          367122,
          40199,
          75412,
          136969,
          484543,
          40222,
          259647,
          1673054,
          78423,
          2694938,
          24006,
          178799,
          2852658,
          1817812,
          38338,
          965668,
          941810,
          854406,
          605356,
          626728,
          83691,
          75077,
          73960,
          152265,
          92868,
          1006495,
          178299,
          2555208,
          1861202,
          34022,
          392095,
          59213,
          96882,
          68850,
          108659,
          343441,
          134369,
          375940,
          73593,
          469283,
          973777,
          382301,
          41320,
          148210,
          101989,
          76769,
          1125324,
          1251678,
          78494,
          41697,
          111489,
          3140295,
          978731,
          79708,
          1076909,
          455278,
          95054,
          187483,
          48409,
          1103527,
          1163579,
          160119,
          568795,
          14304,
          34667,
          43156,
          421694,
          1185309,
          113799,
          1094964,
          141644,
          39200,
          120319,
          28140,
          64299,
          666678,
          218070,
          124328,
          1052826,
          21979,
          83533,
          79659,
          17817,
          204779,
          319148,
          201428,
          31070,
          39437,
          91283,
          45059,
          71375,
          114620,
          290529,
          827255,
          119759,
          36931,
          3406281,
          39840,
          66125,
          36829,
          380508,
          465548,
          3149081,
          3113295,
          31040,
          16511,
          32654,
          101783,
          71249,
          185185,
          75733,
          16521,
          2196122,
          40726,
          66075,
          102120,
          301686,
          1155014,
          3279865,
          564196,
          92810,
          100683,
          176191,
          409937,
          125778,
          84205,
          42172,
          166450,
          93991,
          178266,
          184034,
          505254,
          16230,
          134730,
          22938,
          100442,
          408900,
          3032784,
          2401646,
          186145,
          180469,
          179006,
          2862658,
          85946,
          1524634,
          82134,
          73064,
          239968,
          3310906,
          131154,
          338452,
          21919,
          76801,
          70898,
          53994,
          303558,
          189875,
          90837,
          126617,
          30230,
          38660,
          107309,
          416253,
          397085,
          1196162,
          2827707,
          605368,
          21155,
          268943,
          300239,
          19954,
          115416,
          3194046,
          37410,
          327137,
          369982,
          306081,
          504117,
          336571,
          208084,
          99789,
          283798,
          15287,
          158747,
          1024901,
          34155,
          2831733,
          23954,
          148729,
          2904720,
          129767,
          16230,
          29056,
          437661,
          38463,
          286136,
          28944,
          200296,
          87999,
          321411,
          1368869,
          1739871,
          551861,
          17746,
          172196,
          203853,
          106027,
          36952,
          475609,
          195897,
          340300,
          27622,
          394872,
          1764820,
          81361,
          163576,
          1153302,
          2849054,
          293324,
          331195,
          427263,
          98468,
          2805048,
          196321,
          70681,
          590568,
          27810,
          796782,
          95100,
          29670,
          18064,
          40972,
          114009,
          1597497,
          30448,
          197755,
          203242,
          23877,
          78408,
          75593,
          137194,
          142421,
          74544,
          78265,
          125328,
          1049612,
          2583425,
          35266,
          83154,
          41163,
          192670,
          25616,
          1564484,
          314519,
          439113,
          36734,
          493527,
          31707,
          16257,
          144817,
          44416
         ],
         "yaxis": "y"
        }
       ],
       "layout": {
        "autosize": true,
        "barmode": "relative",
        "legend": {
         "title": {
          "text": "Nationality"
         },
         "tracegroupgap": 0
        },
        "margin": {
         "t": 60
        },
        "template": {
         "data": {
          "bar": [
           {
            "error_x": {
             "color": "#2a3f5f"
            },
            "error_y": {
             "color": "#2a3f5f"
            },
            "marker": {
             "line": {
              "color": "#E5ECF6",
              "width": 0.5
             },
             "pattern": {
              "fillmode": "overlay",
              "size": 10,
              "solidity": 0.2
             }
            },
            "type": "bar"
           }
          ],
          "barpolar": [
           {
            "marker": {
             "line": {
              "color": "#E5ECF6",
              "width": 0.5
             },
             "pattern": {
              "fillmode": "overlay",
              "size": 10,
              "solidity": 0.2
             }
            },
            "type": "barpolar"
           }
          ],
          "carpet": [
           {
            "aaxis": {
             "endlinecolor": "#2a3f5f",
             "gridcolor": "white",
             "linecolor": "white",
             "minorgridcolor": "white",
             "startlinecolor": "#2a3f5f"
            },
            "baxis": {
             "endlinecolor": "#2a3f5f",
             "gridcolor": "white",
             "linecolor": "white",
             "minorgridcolor": "white",
             "startlinecolor": "#2a3f5f"
            },
            "type": "carpet"
           }
          ],
          "choropleth": [
           {
            "colorbar": {
             "outlinewidth": 0,
             "ticks": ""
            },
            "type": "choropleth"
           }
          ],
          "contour": [
           {
            "colorbar": {
             "outlinewidth": 0,
             "ticks": ""
            },
            "colorscale": [
             [
              0,
              "#0d0887"
             ],
             [
              0.1111111111111111,
              "#46039f"
             ],
             [
              0.2222222222222222,
              "#7201a8"
             ],
             [
              0.3333333333333333,
              "#9c179e"
             ],
             [
              0.4444444444444444,
              "#bd3786"
             ],
             [
              0.5555555555555556,
              "#d8576b"
             ],
             [
              0.6666666666666666,
              "#ed7953"
             ],
             [
              0.7777777777777778,
              "#fb9f3a"
             ],
             [
              0.8888888888888888,
              "#fdca26"
             ],
             [
              1,
              "#f0f921"
             ]
            ],
            "type": "contour"
           }
          ],
          "contourcarpet": [
           {
            "colorbar": {
             "outlinewidth": 0,
             "ticks": ""
            },
            "type": "contourcarpet"
           }
          ],
          "heatmap": [
           {
            "colorbar": {
             "outlinewidth": 0,
             "ticks": ""
            },
            "colorscale": [
             [
              0,
              "#0d0887"
             ],
             [
              0.1111111111111111,
              "#46039f"
             ],
             [
              0.2222222222222222,
              "#7201a8"
             ],
             [
              0.3333333333333333,
              "#9c179e"
             ],
             [
              0.4444444444444444,
              "#bd3786"
             ],
             [
              0.5555555555555556,
              "#d8576b"
             ],
             [
              0.6666666666666666,
              "#ed7953"
             ],
             [
              0.7777777777777778,
              "#fb9f3a"
             ],
             [
              0.8888888888888888,
              "#fdca26"
             ],
             [
              1,
              "#f0f921"
             ]
            ],
            "type": "heatmap"
           }
          ],
          "heatmapgl": [
           {
            "colorbar": {
             "outlinewidth": 0,
             "ticks": ""
            },
            "colorscale": [
             [
              0,
              "#0d0887"
             ],
             [
              0.1111111111111111,
              "#46039f"
             ],
             [
              0.2222222222222222,
              "#7201a8"
             ],
             [
              0.3333333333333333,
              "#9c179e"
             ],
             [
              0.4444444444444444,
              "#bd3786"
             ],
             [
              0.5555555555555556,
              "#d8576b"
             ],
             [
              0.6666666666666666,
              "#ed7953"
             ],
             [
              0.7777777777777778,
              "#fb9f3a"
             ],
             [
              0.8888888888888888,
              "#fdca26"
             ],
             [
              1,
              "#f0f921"
             ]
            ],
            "type": "heatmapgl"
           }
          ],
          "histogram": [
           {
            "marker": {
             "pattern": {
              "fillmode": "overlay",
              "size": 10,
              "solidity": 0.2
             }
            },
            "type": "histogram"
           }
          ],
          "histogram2d": [
           {
            "colorbar": {
             "outlinewidth": 0,
             "ticks": ""
            },
            "colorscale": [
             [
              0,
              "#0d0887"
             ],
             [
              0.1111111111111111,
              "#46039f"
             ],
             [
              0.2222222222222222,
              "#7201a8"
             ],
             [
              0.3333333333333333,
              "#9c179e"
             ],
             [
              0.4444444444444444,
              "#bd3786"
             ],
             [
              0.5555555555555556,
              "#d8576b"
             ],
             [
              0.6666666666666666,
              "#ed7953"
             ],
             [
              0.7777777777777778,
              "#fb9f3a"
             ],
             [
              0.8888888888888888,
              "#fdca26"
             ],
             [
              1,
              "#f0f921"
             ]
            ],
            "type": "histogram2d"
           }
          ],
          "histogram2dcontour": [
           {
            "colorbar": {
             "outlinewidth": 0,
             "ticks": ""
            },
            "colorscale": [
             [
              0,
              "#0d0887"
             ],
             [
              0.1111111111111111,
              "#46039f"
             ],
             [
              0.2222222222222222,
              "#7201a8"
             ],
             [
              0.3333333333333333,
              "#9c179e"
             ],
             [
              0.4444444444444444,
              "#bd3786"
             ],
             [
              0.5555555555555556,
              "#d8576b"
             ],
             [
              0.6666666666666666,
              "#ed7953"
             ],
             [
              0.7777777777777778,
              "#fb9f3a"
             ],
             [
              0.8888888888888888,
              "#fdca26"
             ],
             [
              1,
              "#f0f921"
             ]
            ],
            "type": "histogram2dcontour"
           }
          ],
          "mesh3d": [
           {
            "colorbar": {
             "outlinewidth": 0,
             "ticks": ""
            },
            "type": "mesh3d"
           }
          ],
          "parcoords": [
           {
            "line": {
             "colorbar": {
              "outlinewidth": 0,
              "ticks": ""
             }
            },
            "type": "parcoords"
           }
          ],
          "pie": [
           {
            "automargin": true,
            "type": "pie"
           }
          ],
          "scatter": [
           {
            "fillpattern": {
             "fillmode": "overlay",
             "size": 10,
             "solidity": 0.2
            },
            "type": "scatter"
           }
          ],
          "scatter3d": [
           {
            "line": {
             "colorbar": {
              "outlinewidth": 0,
              "ticks": ""
             }
            },
            "marker": {
             "colorbar": {
              "outlinewidth": 0,
              "ticks": ""
             }
            },
            "type": "scatter3d"
           }
          ],
          "scattercarpet": [
           {
            "marker": {
             "colorbar": {
              "outlinewidth": 0,
              "ticks": ""
             }
            },
            "type": "scattercarpet"
           }
          ],
          "scattergeo": [
           {
            "marker": {
             "colorbar": {
              "outlinewidth": 0,
              "ticks": ""
             }
            },
            "type": "scattergeo"
           }
          ],
          "scattergl": [
           {
            "marker": {
             "colorbar": {
              "outlinewidth": 0,
              "ticks": ""
             }
            },
            "type": "scattergl"
           }
          ],
          "scattermapbox": [
           {
            "marker": {
             "colorbar": {
              "outlinewidth": 0,
              "ticks": ""
             }
            },
            "type": "scattermapbox"
           }
          ],
          "scatterpolar": [
           {
            "marker": {
             "colorbar": {
              "outlinewidth": 0,
              "ticks": ""
             }
            },
            "type": "scatterpolar"
           }
          ],
          "scatterpolargl": [
           {
            "marker": {
             "colorbar": {
              "outlinewidth": 0,
              "ticks": ""
             }
            },
            "type": "scatterpolargl"
           }
          ],
          "scatterternary": [
           {
            "marker": {
             "colorbar": {
              "outlinewidth": 0,
              "ticks": ""
             }
            },
            "type": "scatterternary"
           }
          ],
          "surface": [
           {
            "colorbar": {
             "outlinewidth": 0,
             "ticks": ""
            },
            "colorscale": [
             [
              0,
              "#0d0887"
             ],
             [
              0.1111111111111111,
              "#46039f"
             ],
             [
              0.2222222222222222,
              "#7201a8"
             ],
             [
              0.3333333333333333,
              "#9c179e"
             ],
             [
              0.4444444444444444,
              "#bd3786"
             ],
             [
              0.5555555555555556,
              "#d8576b"
             ],
             [
              0.6666666666666666,
              "#ed7953"
             ],
             [
              0.7777777777777778,
              "#fb9f3a"
             ],
             [
              0.8888888888888888,
              "#fdca26"
             ],
             [
              1,
              "#f0f921"
             ]
            ],
            "type": "surface"
           }
          ],
          "table": [
           {
            "cells": {
             "fill": {
              "color": "#EBF0F8"
             },
             "line": {
              "color": "white"
             }
            },
            "header": {
             "fill": {
              "color": "#C8D4E3"
             },
             "line": {
              "color": "white"
             }
            },
            "type": "table"
           }
          ]
         },
         "layout": {
          "annotationdefaults": {
           "arrowcolor": "#2a3f5f",
           "arrowhead": 0,
           "arrowwidth": 1
          },
          "autotypenumbers": "strict",
          "coloraxis": {
           "colorbar": {
            "outlinewidth": 0,
            "ticks": ""
           }
          },
          "colorscale": {
           "diverging": [
            [
             0,
             "#8e0152"
            ],
            [
             0.1,
             "#c51b7d"
            ],
            [
             0.2,
             "#de77ae"
            ],
            [
             0.3,
             "#f1b6da"
            ],
            [
             0.4,
             "#fde0ef"
            ],
            [
             0.5,
             "#f7f7f7"
            ],
            [
             0.6,
             "#e6f5d0"
            ],
            [
             0.7,
             "#b8e186"
            ],
            [
             0.8,
             "#7fbc41"
            ],
            [
             0.9,
             "#4d9221"
            ],
            [
             1,
             "#276419"
            ]
           ],
           "sequential": [
            [
             0,
             "#0d0887"
            ],
            [
             0.1111111111111111,
             "#46039f"
            ],
            [
             0.2222222222222222,
             "#7201a8"
            ],
            [
             0.3333333333333333,
             "#9c179e"
            ],
            [
             0.4444444444444444,
             "#bd3786"
            ],
            [
             0.5555555555555556,
             "#d8576b"
            ],
            [
             0.6666666666666666,
             "#ed7953"
            ],
            [
             0.7777777777777778,
             "#fb9f3a"
            ],
            [
             0.8888888888888888,
             "#fdca26"
            ],
            [
             1,
             "#f0f921"
            ]
           ],
           "sequentialminus": [
            [
             0,
             "#0d0887"
            ],
            [
             0.1111111111111111,
             "#46039f"
            ],
            [
             0.2222222222222222,
             "#7201a8"
            ],
            [
             0.3333333333333333,
             "#9c179e"
            ],
            [
             0.4444444444444444,
             "#bd3786"
            ],
            [
             0.5555555555555556,
             "#d8576b"
            ],
            [
             0.6666666666666666,
             "#ed7953"
            ],
            [
             0.7777777777777778,
             "#fb9f3a"
            ],
            [
             0.8888888888888888,
             "#fdca26"
            ],
            [
             1,
             "#f0f921"
            ]
           ]
          },
          "colorway": [
           "#636efa",
           "#EF553B",
           "#00cc96",
           "#ab63fa",
           "#FFA15A",
           "#19d3f3",
           "#FF6692",
           "#B6E880",
           "#FF97FF",
           "#FECB52"
          ],
          "font": {
           "color": "#2a3f5f"
          },
          "geo": {
           "bgcolor": "white",
           "lakecolor": "white",
           "landcolor": "#E5ECF6",
           "showlakes": true,
           "showland": true,
           "subunitcolor": "white"
          },
          "hoverlabel": {
           "align": "left"
          },
          "hovermode": "closest",
          "mapbox": {
           "style": "light"
          },
          "paper_bgcolor": "white",
          "plot_bgcolor": "#E5ECF6",
          "polar": {
           "angularaxis": {
            "gridcolor": "white",
            "linecolor": "white",
            "ticks": ""
           },
           "bgcolor": "#E5ECF6",
           "radialaxis": {
            "gridcolor": "white",
            "linecolor": "white",
            "ticks": ""
           }
          },
          "scene": {
           "xaxis": {
            "backgroundcolor": "#E5ECF6",
            "gridcolor": "white",
            "gridwidth": 2,
            "linecolor": "white",
            "showbackground": true,
            "ticks": "",
            "zerolinecolor": "white"
           },
           "yaxis": {
            "backgroundcolor": "#E5ECF6",
            "gridcolor": "white",
            "gridwidth": 2,
            "linecolor": "white",
            "showbackground": true,
            "ticks": "",
            "zerolinecolor": "white"
           },
           "zaxis": {
            "backgroundcolor": "#E5ECF6",
            "gridcolor": "white",
            "gridwidth": 2,
            "linecolor": "white",
            "showbackground": true,
            "ticks": "",
            "zerolinecolor": "white"
           }
          },
          "shapedefaults": {
           "line": {
            "color": "#2a3f5f"
           }
          },
          "ternary": {
           "aaxis": {
            "gridcolor": "white",
            "linecolor": "white",
            "ticks": ""
           },
           "baxis": {
            "gridcolor": "white",
            "linecolor": "white",
            "ticks": ""
           },
           "bgcolor": "#E5ECF6",
           "caxis": {
            "gridcolor": "white",
            "linecolor": "white",
            "ticks": ""
           }
          },
          "title": {
           "x": 0.05
          },
          "xaxis": {
           "automargin": true,
           "gridcolor": "white",
           "linecolor": "white",
           "ticks": "",
           "title": {
            "standoff": 15
           },
           "zerolinecolor": "white",
           "zerolinewidth": 2
          },
          "yaxis": {
           "automargin": true,
           "gridcolor": "white",
           "linecolor": "white",
           "ticks": "",
           "title": {
            "standoff": 15
           },
           "zerolinecolor": "white",
           "zerolinewidth": 2
          }
         }
        },
        "xaxis": {
         "anchor": "y",
         "autorange": true,
         "domain": [
          0,
          1
         ],
         "range": [
          -0.5,
          12.5
         ],
         "title": {
          "text": "Region"
         },
         "type": "category"
        },
        "yaxis": {
         "anchor": "x",
         "autorange": true,
         "domain": [
          0,
          1
         ],
         "range": [
          0,
          105376861.05263159
         ],
         "title": {
          "text": "Population estimates"
         },
         "type": "linear"
        }
       }
      },
      "image/png": "[encoded data removed]",
      "text/html": [
       "<div>                            <div id=\"7b09f269-6a50-426d-ad71-6621643c5d6f\" class=\"plotly-graph-div\" style=\"height:525px; width:100%;\"></div>            <script type=\"text/javascript\">                require([\"plotly\"], function(Plotly) {                    window.PLOTLYENV=window.PLOTLYENV || {};                                    if (document.getElementById(\"7b09f269-6a50-426d-ad71-6621643c5d6f\")) {                    Plotly.newPlot(                        \"7b09f269-6a50-426d-ad71-6621643c5d6f\",                        [{\"alignmentgroup\":\"True\",\"hovertemplate\":\"Nationality=Saudi<br>Region=%{x}<br>Population estimates=%{y}<extra></extra>\",\"legendgroup\":\"Saudi\",\"marker\":{\"color\":\"#636efa\",\"pattern\":{\"shape\":\"\"}},\"name\":\"Saudi\",\"offsetgroup\":\"Saudi\",\"orientation\":\"v\",\"showlegend\":true,\"textposition\":\"auto\",\"x\":[\"Madinah\",\"Tabouk\",\"Hail\",\"Eastern Region\",\"Al-Jouf\",\"Madinah\",\"Qaseem\",\"Najran\",\"Madinah\",\"Madinah\",\"Qaseem\",\"Al-Jouf\",\"Makkah\",\"Madinah\",\"Riyadh\",\"Makkah\",\"Qaseem\",\"Tabouk\",\"Najran\",\"Tabouk\",\"Eastern Region\",\"Riyadh\",\"Riyadh\",\"Qaseem\",\"Riyadh\",\"Qaseem\",\"Tabouk\",\"Makkah\",\"Tabouk\",\"Al-Baha\",\"Al-Baha\",\"Qaseem\",\"Aseer\",\"Aseer\",\"Riyadh\",\"Tabouk\",\"Najran\",\"Northern Region\",\"Jazan\",\"Hail\",\"Makkah\",\"Eastern Region\",\"Riyadh\",\"Hail\",\"Aseer\",\"Al-Baha\",\"Najran\",\"Eastern Region\",\"Makkah\",\"Eastern Region\",\"Qaseem\",\"Northern Region\",\"Al-Jouf\",\"Madinah\",\"Qaseem\",\"Najran\",\"Madinah\",\"Riyadh\",\"Tabouk\",\"Madinah\",\"Jazan\",\"Madinah\",\"Tabouk\",\"Northern Region\",\"Tabouk\",\"Al-Baha\",\"Jazan\",\"Northern Region\",\"Tabouk\",\"Hail\",\"Makkah\",\"Hail\",\"Makkah\",\"Northern Region\",\"Qaseem\",\"Tabouk\",\"Hail\",\"Najran\",\"Northern Region\",\"Aseer\",\"Aseer\",\"Al-Baha\",\"Makkah\",\"Najran\",\"Al-Jouf\",\"Jazan\",\"Al-Baha\",\"Aseer\",\"Makkah\",\"Qaseem\",\"Jazan\",\"Najran\",\"Northern Region\",\"Madinah\",\"Jazan\",\"Riyadh\",\"Madinah\",\"Northern Region\",\"Jazan\",\"Eastern Region\",\"Najran\",\"Najran\",\"Aseer\",\"Al-Jouf\",\"Najran\",\"Hail\",\"Eastern Region\",\"Aseer\",\"Al-Jouf\",\"Madinah\",\"Riyadh\",\"Northern Region\",\"Northern Region\",\"Al-Baha\",\"Al-Baha\",\"Riyadh\",\"Hail\",\"Hail\",\"Qaseem\",\"Qaseem\",\"Makkah\",\"Eastern Region\",\"Eastern Region\",\"Tabouk\",\"Makkah\",\"Madinah\",\"Al-Baha\",\"Jazan\",\"Al-Jouf\",\"Eastern Region\",\"Madinah\",\"Riyadh\",\"Eastern Region\",\"Qaseem\",\"Qaseem\",\"Aseer\",\"Northern Region\",\"Jazan\",\"Qaseem\",\"Makkah\",\"Aseer\",\"Al-Jouf\",\"Tabouk\",\"Al-Jouf\",\"Northern Region\",\"Madinah\",\"Aseer\",\"Madinah\",\"Al-Baha\",\"Al-Jouf\",\"Hail\",\"Qaseem\",\"Aseer\",\"Jazan\",\"Najran\",\"Aseer\",\"Qaseem\",\"Aseer\",\"Eastern Region\",\"Najran\",\"Makkah\",\"Jazan\",\"Najran\",\"Tabouk\",\"Al-Jouf\",\"Jazan\",\"Qaseem\",\"Al-Baha\",\"Madinah\",\"Madinah\",\"Riyadh\",\"Riyadh\",\"Qaseem\",\"Northern Region\",\"Aseer\",\"Riyadh\",\"Jazan\",\"Tabouk\",\"Makkah\",\"Jazan\",\"Najran\",\"Eastern Region\",\"Aseer\",\"Al-Baha\",\"Riyadh\",\"Aseer\",\"Najran\",\"Najran\",\"Makkah\",\"Eastern Region\",\"Qaseem\",\"Riyadh\",\"Al-Baha\",\"Qaseem\",\"Eastern Region\",\"Makkah\",\"Hail\",\"Aseer\",\"Northern Region\",\"Al-Jouf\",\"Aseer\",\"Tabouk\",\"Hail\",\"Najran\",\"Madinah\",\"Jazan\",\"Madinah\",\"Najran\",\"Najran\",\"Tabouk\",\"Qaseem\",\"Jazan\",\"Northern Region\",\"Eastern Region\",\"Al-Baha\",\"Eastern Region\",\"Jazan\",\"Aseer\",\"Northern Region\",\"Riyadh\",\"Hail\",\"Northern Region\",\"Al-Baha\",\"Najran\",\"Al-Jouf\",\"Al-Baha\",\"Makkah\",\"Eastern Region\",\"Jazan\",\"Hail\",\"Al-Baha\",\"Al-Jouf\",\"Aseer\",\"Riyadh\",\"Jazan\",\"Eastern Region\",\"Riyadh\",\"Qaseem\",\"Hail\",\"Northern Region\",\"Northern Region\",\"Qaseem\",\"Aseer\",\"Najran\",\"Al-Baha\",\"Madinah\",\"Hail\",\"Qaseem\",\"Al-Jouf\",\"Makkah\",\"Hail\",\"Northern Region\",\"Tabouk\",\"Al-Jouf\",\"Najran\",\"Qaseem\",\"Riyadh\",\"Makkah\",\"Najran\",\"Eastern Region\",\"Tabouk\",\"Aseer\",\"Eastern Region\",\"Al-Jouf\",\"Tabouk\",\"Eastern Region\",\"Hail\",\"Tabouk\",\"Madinah\",\"Al-Jouf\",\"Riyadh\",\"Northern Region\",\"Aseer\",\"Jazan\",\"Tabouk\",\"Northern Region\",\"Al-Jouf\",\"Hail\",\"Al-Baha\",\"Madinah\",\"Eastern Region\",\"Makkah\",\"Aseer\",\"Jazan\",\"Riyadh\",\"Aseer\",\"Northern Region\",\"Riyadh\",\"Hail\",\"Al-Baha\",\"Jazan\",\"Makkah\",\"Riyadh\",\"Madinah\",\"Jazan\",\"Al-Jouf\",\"Northern Region\",\"Al-Jouf\",\"Jazan\",\"Eastern Region\",\"Al-Baha\",\"Tabouk\",\"Hail\",\"Tabouk\",\"Al-Jouf\",\"Hail\",\"Al-Jouf\",\"Al-Baha\",\"Hail\",\"Northern Region\",\"Al-Jouf\",\"Madinah\",\"Northern Region\",\"Riyadh\",\"Eastern Region\",\"Riyadh\",\"Al-Jouf\",\"Jazan\",\"Hail\",\"Najran\",\"Makkah\",\"Makkah\",\"Al-Baha\",\"Hail\",\"Al-Baha\",\"Eastern Region\",\"Makkah\",\"Tabouk\",\"Najran\",\"Tabouk\",\"Hail\",\"Jazan\",\"Al-Jouf\",\"Al-Baha\",\"Makkah\",\"Al-Baha\",\"Madinah\",\"Makkah\"],\"xaxis\":\"x\",\"y\":[562344,239792,211727,1308467,181436,546260,451061,156915,613235,628057,461032,173361,2073878,633571,2197165,1703946,429850,244726,185115,309466,1284399,1948993,1988653,422996,2148761,384306,321704,1707937,263944,94797,92422,353873,677910,638272,1951078,254504,161411,120146,477821,236237,1981969,1171807,1758368,262778,701135,106956,185427,1382219,2079845,1335326,419545,123943,195224,529499,362068,181278,509074,1669970,289200,604703,375471,559725,248842,111421,256629,110757,415289,133588,293945,199934,1570069,231701,1541652,125029,355120,283010,223897,177411,122394,612226,686327,122365,1835981,177215,191142,503886,113257,584082,1798985,410211,437497,160858,129777,618598,457451,1746263,543503,131023,454221,1444796,166042,197668,569003,220359,174112,208594,1439974,696103,211750,588122,1811466,117567,116221,101946,94235,1635160,229345,234193,371679,404745,1611601,1505058,1471933,295842,1931101,574828,117530,425816,212298,1277468,577855,2100681,1226344,394991,393229,668468,106296,481453,465458,1879826,712009,190315,287581,169397,104306,592006,601145,507527,104998,170202,197414,433415,564774,447014,169708,626115,455121,541748,1242148,193787,2027109,376086,150396,270975,202611,444104,382811,114395,672749,644698,1903165,2144437,444914,121315,617900,1862723,426901,308645,1838533,403310,181060,1256995,728200,128405,1909357,555911,157421,193396,1656215,1192754,347561,1850887,116010,347002,1101214,1535534,206313,552283,132401,216252,661721,282196,259504,197308,532216,488180,517557,170333,190039,303140,402308,435600,136267,1127648,96365,1204401,498893,596354,107497,1996692,257139,135091,109065,154018,177107,96899,1882931,1314470,383658,203902,119001,194629,633035,2192321,402666,1143956,1704831,373193,254097,105154,110175,413455,716488,173674,98881,650123,226447,441421,207354,1573573,245264,118914,250276,172724,189598,363544,1711976,1798091,151112,1346677,315897,544163,1366995,219905,315045,1413447,201625,261129,679397,198447,1794724,114609,646707,383516,244052,127864,206987,251585,99234,599638,1401278,1608752,579440,414604,2046070,652700,108664,2035530,241617,125345,492571,1927746,2086662,664660,468778,176392,126707,215787,392305,1157930,122883,277342,214109,268809,185605,239508,202935,108025,220505,103078,180666,519999,113247,1671318,1077728,2242045,198781,392808,265107,165373,1653242,1984600,120156,217924,111589,1120586,2032042,275939,153469,300852,247491,465289,186470,101794,1756374,104524,658453,1753158],\"yaxis\":\"y\",\"type\":\"bar\"},{\"alignmentgroup\":\"True\",\"hovertemplate\":\"Nationality=Non-Saudi<br>Region=%{x}<br>Population estimates=%{y}<extra></extra>\",\"legendgroup\":\"Non-Saudi\",\"marker\":{\"color\":\"#EF553B\",\"pattern\":{\"shape\":\"\"}},\"name\":\"Non-Saudi\",\"offsetgroup\":\"Non-Saudi\",\"orientation\":\"v\",\"showlegend\":true,\"textposition\":\"auto\",\"x\":[\"Al-Baha\",\"Northern Region\",\"Northern Region\",\"Eastern Region\",\"Qaseem\",\"Al-Baha\",\"Riyadh\",\"Jazan\",\"Aseer\",\"Eastern Region\",\"Al-Baha\",\"Riyadh\",\"Aseer\",\"Northern Region\",\"Eastern Region\",\"Tabouk\",\"Madinah\",\"Riyadh\",\"Najran\",\"Tabouk\",\"Al-Baha\",\"Northern Region\",\"Jazan\",\"Jazan\",\"Makkah\",\"Makkah\",\"Qaseem\",\"Madinah\",\"Tabouk\",\"Najran\",\"Makkah\",\"Riyadh\",\"Najran\",\"Al-Baha\",\"Hail\",\"Al-Jouf\",\"Madinah\",\"Najran\",\"Al-Baha\",\"Makkah\",\"Jazan\",\"Jazan\",\"Northern Region\",\"Eastern Region\",\"Riyadh\",\"Aseer\",\"Aseer\",\"Al-Jouf\",\"Al-Baha\",\"Riyadh\",\"Riyadh\",\"Najran\",\"Al-Baha\",\"Makkah\",\"Madinah\",\"Al-Baha\",\"Tabouk\",\"Northern Region\",\"Hail\",\"Qaseem\",\"Jazan\",\"Qaseem\",\"Madinah\",\"Hail\",\"Riyadh\",\"Najran\",\"Al-Jouf\",\"Eastern Region\",\"Eastern Region\",\"Aseer\",\"Tabouk\",\"Hail\",\"Qaseem\",\"Aseer\",\"Najran\",\"Jazan\",\"Al-Baha\",\"Aseer\",\"Tabouk\",\"Al-Baha\",\"Najran\",\"Aseer\",\"Hail\",\"Jazan\",\"Eastern Region\",\"Qaseem\",\"Makkah\",\"Northern Region\",\"Hail\",\"Makkah\",\"Eastern Region\",\"Najran\",\"Riyadh\",\"Riyadh\",\"Riyadh\",\"Madinah\",\"Madinah\",\"Aseer\",\"Al-Baha\",\"Al-Baha\",\"Najran\",\"Jazan\",\"Riyadh\",\"Hail\",\"Riyadh\",\"Eastern Region\",\"Hail\",\"Eastern Region\",\"Northern Region\",\"Jazan\",\"Al-Baha\",\"Jazan\",\"Qaseem\",\"Tabouk\",\"Qaseem\",\"Al-Baha\",\"Aseer\",\"Riyadh\",\"Eastern Region\",\"Hail\",\"Tabouk\",\"Hail\",\"Qaseem\",\"Eastern Region\",\"Eastern Region\",\"Qaseem\",\"Tabouk\",\"Al-Jouf\",\"Riyadh\",\"Riyadh\",\"Qaseem\",\"Makkah\",\"Aseer\",\"Aseer\",\"Madinah\",\"Northern Region\",\"Makkah\",\"Makkah\",\"Hail\",\"Madinah\",\"Northern Region\",\"Tabouk\",\"Najran\",\"Aseer\",\"Makkah\",\"Al-Jouf\",\"Makkah\",\"Najran\",\"Tabouk\",\"Al-Jouf\",\"Al-Jouf\",\"Al-Baha\",\"Madinah\",\"Jazan\",\"Al-Jouf\",\"Riyadh\",\"Northern Region\",\"Qaseem\",\"Northern Region\",\"Al-Baha\",\"Tabouk\",\"Jazan\",\"Madinah\",\"Al-Jouf\",\"Hail\",\"Najran\",\"Najran\",\"Al-Baha\",\"Hail\",\"Jazan\",\"Riyadh\",\"Tabouk\",\"Tabouk\",\"Riyadh\",\"Tabouk\",\"Northern Region\",\"Najran\",\"Eastern Region\",\"Madinah\",\"Makkah\",\"Makkah\",\"Najran\",\"Al-Baha\",\"Najran\",\"Jazan\",\"Qaseem\",\"Tabouk\",\"Northern Region\",\"Al-Baha\",\"Makkah\",\"Najran\",\"Al-Baha\",\"Najran\",\"Jazan\",\"Makkah\",\"Makkah\",\"Madinah\",\"Aseer\",\"Aseer\",\"Hail\",\"Aseer\",\"Najran\",\"Qaseem\",\"Najran\",\"Tabouk\",\"Aseer\",\"Madinah\",\"Tabouk\",\"Madinah\",\"Al-Baha\",\"Al-Jouf\",\"Al-Jouf\",\"Al-Jouf\",\"Eastern Region\",\"Riyadh\",\"Makkah\",\"Madinah\",\"Madinah\",\"Madinah\",\"Makkah\",\"Al-Baha\",\"Eastern Region\",\"Al-Baha\",\"Qaseem\",\"Jazan\",\"Riyadh\",\"Al-Jouf\",\"Jazan\",\"Al-Jouf\",\"Northern Region\",\"Northern Region\",\"Northern Region\",\"Jazan\",\"Tabouk\",\"Aseer\",\"Hail\",\"Al-Jouf\",\"Hail\",\"Jazan\",\"Eastern Region\",\"Eastern Region\",\"Makkah\",\"Makkah\",\"Madinah\",\"Northern Region\",\"Qaseem\",\"Aseer\",\"Northern Region\",\"Al-Jouf\",\"Riyadh\",\"Hail\",\"Jazan\",\"Eastern Region\",\"Qaseem\",\"Aseer\",\"Eastern Region\",\"Tabouk\",\"Aseer\",\"Jazan\",\"Northern Region\",\"Hail\",\"Riyadh\",\"Najran\",\"Riyadh\",\"Northern Region\",\"Najran\",\"Riyadh\",\"Najran\",\"Northern Region\",\"Al-Jouf\",\"Aseer\",\"Hail\",\"Jazan\",\"Al-Jouf\",\"Tabouk\",\"Aseer\",\"Qaseem\",\"Eastern Region\",\"Eastern Region\",\"Madinah\",\"Northern Region\",\"Tabouk\",\"Madinah\",\"Jazan\",\"Hail\",\"Aseer\",\"Madinah\",\"Qaseem\",\"Al-Jouf\",\"Qaseem\",\"Eastern Region\",\"Northern Region\",\"Hail\",\"Makkah\",\"Makkah\",\"Qaseem\",\"Qaseem\",\"Eastern Region\",\"Jazan\",\"Makkah\",\"Madinah\",\"Northern Region\",\"Madinah\",\"Al-Jouf\",\"Riyadh\",\"Jazan\",\"Al-Jouf\",\"Al-Baha\",\"Tabouk\",\"Al-Jouf\",\"Eastern Region\",\"Hail\",\"Madinah\",\"Madinah\",\"Al-Jouf\",\"Qaseem\",\"Qaseem\",\"Najran\",\"Hail\",\"Qaseem\",\"Northern Region\",\"Al-Jouf\",\"Makkah\",\"Makkah\",\"Hail\",\"Al-Jouf\",\"Tabouk\",\"Tabouk\",\"Al-Jouf\",\"Eastern Region\",\"Qaseem\",\"Aseer\",\"Hail\",\"Aseer\",\"Hail\",\"Al-Baha\",\"Najran\",\"Tabouk\"],\"xaxis\":\"x\",\"y\":[16951,21111,21056,347508,377965,69631,1012243,108131,86040,410580,18333,909928,92727,68037,1609979,42458,646360,2348331,156000,42964,16209,73503,297971,97252,1107492,1062692,83675,558493,35867,45978,1053771,2855565,112311,59029,147553,26546,183087,40343,17508,1199669,103302,275880,18721,324272,2891361,334823,94571,92164,81945,936085,2122121,41338,16752,2582311,188259,18323,205977,22741,172985,345482,101035,340886,421795,29089,3124464,153138,126144,395711,1736772,97456,43610,165334,81928,100638,43408,100532,17682,367122,40199,75412,136969,484543,40222,259647,1673054,78423,2694938,24006,178799,2852658,1817812,38338,965668,941810,854406,605356,626728,83691,75077,73960,152265,92868,1006495,178299,2555208,1861202,34022,392095,59213,96882,68850,108659,343441,134369,375940,73593,469283,973777,382301,41320,148210,101989,76769,1125324,1251678,78494,41697,111489,3140295,978731,79708,1076909,455278,95054,187483,48409,1103527,1163579,160119,568795,14304,34667,43156,421694,1185309,113799,1094964,141644,39200,120319,28140,64299,666678,218070,124328,1052826,21979,83533,79659,17817,204779,319148,201428,31070,39437,91283,45059,71375,114620,290529,827255,119759,36931,3406281,39840,66125,36829,380508,465548,3149081,3113295,31040,16511,32654,101783,71249,185185,75733,16521,2196122,40726,66075,102120,301686,1155014,3279865,564196,92810,100683,176191,409937,125778,84205,42172,166450,93991,178266,184034,505254,16230,134730,22938,100442,408900,3032784,2401646,186145,180469,179006,2862658,85946,1524634,82134,73064,239968,3310906,131154,338452,21919,76801,70898,53994,303558,189875,90837,126617,30230,38660,107309,416253,397085,1196162,2827707,605368,21155,268943,300239,19954,115416,3194046,37410,327137,369982,306081,504117,336571,208084,99789,283798,15287,158747,1024901,34155,2831733,23954,148729,2904720,129767,16230,29056,437661,38463,286136,28944,200296,87999,321411,1368869,1739871,551861,17746,172196,203853,106027,36952,475609,195897,340300,27622,394872,1764820,81361,163576,1153302,2849054,293324,331195,427263,98468,2805048,196321,70681,590568,27810,796782,95100,29670,18064,40972,114009,1597497,30448,197755,203242,23877,78408,75593,137194,142421,74544,78265,125328,1049612,2583425,35266,83154,41163,192670,25616,1564484,314519,439113,36734,493527,31707,16257,144817,44416],\"yaxis\":\"y\",\"type\":\"bar\"}],                        {\"template\":{\"data\":{\"histogram2dcontour\":[{\"type\":\"histogram2dcontour\",\"colorbar\":{\"outlinewidth\":0,\"ticks\":\"\"},\"colorscale\":[[0.0,\"#0d0887\"],[0.1111111111111111,\"#46039f\"],[0.2222222222222222,\"#7201a8\"],[0.3333333333333333,\"#9c179e\"],[0.4444444444444444,\"#bd3786\"],[0.5555555555555556,\"#d8576b\"],[0.6666666666666666,\"#ed7953\"],[0.7777777777777778,\"#fb9f3a\"],[0.8888888888888888,\"#fdca26\"],[1.0,\"#f0f921\"]]}],\"choropleth\":[{\"type\":\"choropleth\",\"colorbar\":{\"outlinewidth\":0,\"ticks\":\"\"}}],\"histogram2d\":[{\"type\":\"histogram2d\",\"colorbar\":{\"outlinewidth\":0,\"ticks\":\"\"},\"colorscale\":[[0.0,\"#0d0887\"],[0.1111111111111111,\"#46039f\"],[0.2222222222222222,\"#7201a8\"],[0.3333333333333333,\"#9c179e\"],[0.4444444444444444,\"#bd3786\"],[0.5555555555555556,\"#d8576b\"],[0.6666666666666666,\"#ed7953\"],[0.7777777777777778,\"#fb9f3a\"],[0.8888888888888888,\"#fdca26\"],[1.0,\"#f0f921\"]]}],\"heatmap\":[{\"type\":\"heatmap\",\"colorbar\":{\"outlinewidth\":0,\"ticks\":\"\"},\"colorscale\":[[0.0,\"#0d0887\"],[0.1111111111111111,\"#46039f\"],[0.2222222222222222,\"#7201a8\"],[0.3333333333333333,\"#9c179e\"],[0.4444444444444444,\"#bd3786\"],[0.5555555555555556,\"#d8576b\"],[0.6666666666666666,\"#ed7953\"],[0.7777777777777778,\"#fb9f3a\"],[0.8888888888888888,\"#fdca26\"],[1.0,\"#f0f921\"]]}],\"heatmapgl\":[{\"type\":\"heatmapgl\",\"colorbar\":{\"outlinewidth\":0,\"ticks\":\"\"},\"colorscale\":[[0.0,\"#0d0887\"],[0.1111111111111111,\"#46039f\"],[0.2222222222222222,\"#7201a8\"],[0.3333333333333333,\"#9c179e\"],[0.4444444444444444,\"#bd3786\"],[0.5555555555555556,\"#d8576b\"],[0.6666666666666666,\"#ed7953\"],[0.7777777777777778,\"#fb9f3a\"],[0.8888888888888888,\"#fdca26\"],[1.0,\"#f0f921\"]]}],\"contourcarpet\":[{\"type\":\"contourcarpet\",\"colorbar\":{\"outlinewidth\":0,\"ticks\":\"\"}}],\"contour\":[{\"type\":\"contour\",\"colorbar\":{\"outlinewidth\":0,\"ticks\":\"\"},\"colorscale\":[[0.0,\"#0d0887\"],[0.1111111111111111,\"#46039f\"],[0.2222222222222222,\"#7201a8\"],[0.3333333333333333,\"#9c179e\"],[0.4444444444444444,\"#bd3786\"],[0.5555555555555556,\"#d8576b\"],[0.6666666666666666,\"#ed7953\"],[0.7777777777777778,\"#fb9f3a\"],[0.8888888888888888,\"#fdca26\"],[1.0,\"#f0f921\"]]}],\"surface\":[{\"type\":\"surface\",\"colorbar\":{\"outlinewidth\":0,\"ticks\":\"\"},\"colorscale\":[[0.0,\"#0d0887\"],[0.1111111111111111,\"#46039f\"],[0.2222222222222222,\"#7201a8\"],[0.3333333333333333,\"#9c179e\"],[0.4444444444444444,\"#bd3786\"],[0.5555555555555556,\"#d8576b\"],[0.6666666666666666,\"#ed7953\"],[0.7777777777777778,\"#fb9f3a\"],[0.8888888888888888,\"#fdca26\"],[1.0,\"#f0f921\"]]}],\"mesh3d\":[{\"type\":\"mesh3d\",\"colorbar\":{\"outlinewidth\":0,\"ticks\":\"\"}}],\"scatter\":[{\"fillpattern\":{\"fillmode\":\"overlay\",\"size\":10,\"solidity\":0.2},\"type\":\"scatter\"}],\"parcoords\":[{\"type\":\"parcoords\",\"line\":{\"colorbar\":{\"outlinewidth\":0,\"ticks\":\"\"}}}],\"scatterpolargl\":[{\"type\":\"scatterpolargl\",\"marker\":{\"colorbar\":{\"outlinewidth\":0,\"ticks\":\"\"}}}],\"bar\":[{\"error_x\":{\"color\":\"#2a3f5f\"},\"error_y\":{\"color\":\"#2a3f5f\"},\"marker\":{\"line\":{\"color\":\"#E5ECF6\",\"width\":0.5},\"pattern\":{\"fillmode\":\"overlay\",\"size\":10,\"solidity\":0.2}},\"type\":\"bar\"}],\"scattergeo\":[{\"type\":\"scattergeo\",\"marker\":{\"colorbar\":{\"outlinewidth\":0,\"ticks\":\"\"}}}],\"scatterpolar\":[{\"type\":\"scatterpolar\",\"marker\":{\"colorbar\":{\"outlinewidth\":0,\"ticks\":\"\"}}}],\"histogram\":[{\"marker\":{\"pattern\":{\"fillmode\":\"overlay\",\"size\":10,\"solidity\":0.2}},\"type\":\"histogram\"}],\"scattergl\":[{\"type\":\"scattergl\",\"marker\":{\"colorbar\":{\"outlinewidth\":0,\"ticks\":\"\"}}}],\"scatter3d\":[{\"type\":\"scatter3d\",\"line\":{\"colorbar\":{\"outlinewidth\":0,\"ticks\":\"\"}},\"marker\":{\"colorbar\":{\"outlinewidth\":0,\"ticks\":\"\"}}}],\"scattermapbox\":[{\"type\":\"scattermapbox\",\"marker\":{\"colorbar\":{\"outlinewidth\":0,\"ticks\":\"\"}}}],\"scatterternary\":[{\"type\":\"scatterternary\",\"marker\":{\"colorbar\":{\"outlinewidth\":0,\"ticks\":\"\"}}}],\"scattercarpet\":[{\"type\":\"scattercarpet\",\"marker\":{\"colorbar\":{\"outlinewidth\":0,\"ticks\":\"\"}}}],\"carpet\":[{\"aaxis\":{\"endlinecolor\":\"#2a3f5f\",\"gridcolor\":\"white\",\"linecolor\":\"white\",\"minorgridcolor\":\"white\",\"startlinecolor\":\"#2a3f5f\"},\"baxis\":{\"endlinecolor\":\"#2a3f5f\",\"gridcolor\":\"white\",\"linecolor\":\"white\",\"minorgridcolor\":\"white\",\"startlinecolor\":\"#2a3f5f\"},\"type\":\"carpet\"}],\"table\":[{\"cells\":{\"fill\":{\"color\":\"#EBF0F8\"},\"line\":{\"color\":\"white\"}},\"header\":{\"fill\":{\"color\":\"#C8D4E3\"},\"line\":{\"color\":\"white\"}},\"type\":\"table\"}],\"barpolar\":[{\"marker\":{\"line\":{\"color\":\"#E5ECF6\",\"width\":0.5},\"pattern\":{\"fillmode\":\"overlay\",\"size\":10,\"solidity\":0.2}},\"type\":\"barpolar\"}],\"pie\":[{\"automargin\":true,\"type\":\"pie\"}]},\"layout\":{\"autotypenumbers\":\"strict\",\"colorway\":[\"#636efa\",\"#EF553B\",\"#00cc96\",\"#ab63fa\",\"#FFA15A\",\"#19d3f3\",\"#FF6692\",\"#B6E880\",\"#FF97FF\",\"#FECB52\"],\"font\":{\"color\":\"#2a3f5f\"},\"hovermode\":\"closest\",\"hoverlabel\":{\"align\":\"left\"},\"paper_bgcolor\":\"white\",\"plot_bgcolor\":\"#E5ECF6\",\"polar\":{\"bgcolor\":\"#E5ECF6\",\"angularaxis\":{\"gridcolor\":\"white\",\"linecolor\":\"white\",\"ticks\":\"\"},\"radialaxis\":{\"gridcolor\":\"white\",\"linecolor\":\"white\",\"ticks\":\"\"}},\"ternary\":{\"bgcolor\":\"#E5ECF6\",\"aaxis\":{\"gridcolor\":\"white\",\"linecolor\":\"white\",\"ticks\":\"\"},\"baxis\":{\"gridcolor\":\"white\",\"linecolor\":\"white\",\"ticks\":\"\"},\"caxis\":{\"gridcolor\":\"white\",\"linecolor\":\"white\",\"ticks\":\"\"}},\"coloraxis\":{\"colorbar\":{\"outlinewidth\":0,\"ticks\":\"\"}},\"colorscale\":{\"sequential\":[[0.0,\"#0d0887\"],[0.1111111111111111,\"#46039f\"],[0.2222222222222222,\"#7201a8\"],[0.3333333333333333,\"#9c179e\"],[0.4444444444444444,\"#bd3786\"],[0.5555555555555556,\"#d8576b\"],[0.6666666666666666,\"#ed7953\"],[0.7777777777777778,\"#fb9f3a\"],[0.8888888888888888,\"#fdca26\"],[1.0,\"#f0f921\"]],\"sequentialminus\":[[0.0,\"#0d0887\"],[0.1111111111111111,\"#46039f\"],[0.2222222222222222,\"#7201a8\"],[0.3333333333333333,\"#9c179e\"],[0.4444444444444444,\"#bd3786\"],[0.5555555555555556,\"#d8576b\"],[0.6666666666666666,\"#ed7953\"],[0.7777777777777778,\"#fb9f3a\"],[0.8888888888888888,\"#fdca26\"],[1.0,\"#f0f921\"]],\"diverging\":[[0,\"#8e0152\"],[0.1,\"#c51b7d\"],[0.2,\"#de77ae\"],[0.3,\"#f1b6da\"],[0.4,\"#fde0ef\"],[0.5,\"#f7f7f7\"],[0.6,\"#e6f5d0\"],[0.7,\"#b8e186\"],[0.8,\"#7fbc41\"],[0.9,\"#4d9221\"],[1,\"#276419\"]]},\"xaxis\":{\"gridcolor\":\"white\",\"linecolor\":\"white\",\"ticks\":\"\",\"title\":{\"standoff\":15},\"zerolinecolor\":\"white\",\"automargin\":true,\"zerolinewidth\":2},\"yaxis\":{\"gridcolor\":\"white\",\"linecolor\":\"white\",\"ticks\":\"\",\"title\":{\"standoff\":15},\"zerolinecolor\":\"white\",\"automargin\":true,\"zerolinewidth\":2},\"scene\":{\"xaxis\":{\"backgroundcolor\":\"#E5ECF6\",\"gridcolor\":\"white\",\"linecolor\":\"white\",\"showbackground\":true,\"ticks\":\"\",\"zerolinecolor\":\"white\",\"gridwidth\":2},\"yaxis\":{\"backgroundcolor\":\"#E5ECF6\",\"gridcolor\":\"white\",\"linecolor\":\"white\",\"showbackground\":true,\"ticks\":\"\",\"zerolinecolor\":\"white\",\"gridwidth\":2},\"zaxis\":{\"backgroundcolor\":\"#E5ECF6\",\"gridcolor\":\"white\",\"linecolor\":\"white\",\"showbackground\":true,\"ticks\":\"\",\"zerolinecolor\":\"white\",\"gridwidth\":2}},\"shapedefaults\":{\"line\":{\"color\":\"#2a3f5f\"}},\"annotationdefaults\":{\"arrowcolor\":\"#2a3f5f\",\"arrowhead\":0,\"arrowwidth\":1},\"geo\":{\"bgcolor\":\"white\",\"landcolor\":\"#E5ECF6\",\"subunitcolor\":\"white\",\"showland\":true,\"showlakes\":true,\"lakecolor\":\"white\"},\"title\":{\"x\":0.05},\"mapbox\":{\"style\":\"light\"}}},\"xaxis\":{\"anchor\":\"y\",\"domain\":[0.0,1.0],\"title\":{\"text\":\"Region\"}},\"yaxis\":{\"anchor\":\"x\",\"domain\":[0.0,1.0],\"title\":{\"text\":\"Population estimates\"}},\"legend\":{\"title\":{\"text\":\"Nationality\"},\"tracegroupgap\":0},\"margin\":{\"t\":60},\"barmode\":\"relative\"},                        {\"responsive\": true}                    ).then(function(){\n",
       "                            \n",
       "var gd = document.getElementById('7b09f269-6a50-426d-ad71-6621643c5d6f');\n",
       "var x = new MutationObserver(function (mutations, observer) {{\n",
       "        var display = window.getComputedStyle(gd).display;\n",
       "        if (!display || display === 'none') {{\n",
       "            console.log([gd, 'removed!']);\n",
       "            Plotly.purge(gd);\n",
       "            observer.disconnect();\n",
       "        }}\n",
       "}});\n",
       "\n",
       "// Listen for the removal of the full notebook cells\n",
       "var notebookContainer = gd.closest('#notebook-container');\n",
       "if (notebookContainer) {{\n",
       "    x.observe(notebookContainer, {childList: true});\n",
       "}}\n",
       "\n",
       "// Listen for the clearing of the current output cell\n",
       "var outputEl = gd.closest('.output');\n",
       "if (outputEl) {{\n",
       "    x.observe(outputEl, {childList: true});\n",
       "}}\n",
       "\n",
       "                        })                };                });            </script>        </div>"
      ]
     },
     "metadata": {},
     "output_type": "display_data"
    }
   ],
   "source": [
    "px.bar(data_frame=Population, x='Region', y='Population estimates', color='Nationality')"
   ]
  },
  {
   "cell_type": "markdown",
   "id": "9930d659-6537-4a67-ba97-13c8839c82c2",
   "metadata": {},
   "source": [
    "# Insights: \n",
    "- Riyadh take 1st place followed by Makkah \n",
    "- the Huge Population can be explained by the huge number by the nonsaudi in these cities "
   ]
  },
  {
   "cell_type": "code",
   "execution_count": 199,
   "id": "d7e3b4a5-d28f-4a81-93dc-31c6c0871b32",
   "metadata": {
    "tags": []
   },
   "outputs": [
    {
     "data": {
      "text/html": [
       "<div>\n",
       "<style scoped>\n",
       "    .dataframe tbody tr th:only-of-type {\n",
       "        vertical-align: middle;\n",
       "    }\n",
       "\n",
       "    .dataframe tbody tr th {\n",
       "        vertical-align: top;\n",
       "    }\n",
       "\n",
       "    .dataframe thead th {\n",
       "        text-align: right;\n",
       "    }\n",
       "</style>\n",
       "<table border=\"1\" class=\"dataframe\">\n",
       "  <thead>\n",
       "    <tr style=\"text-align: right;\">\n",
       "      <th></th>\n",
       "      <th>Year</th>\n",
       "      <th>Type</th>\n",
       "      <th>Number of Car Plates Issued</th>\n",
       "    </tr>\n",
       "  </thead>\n",
       "  <tbody>\n",
       "    <tr>\n",
       "      <th>0</th>\n",
       "      <td>1998</td>\n",
       "      <td>Private</td>\n",
       "      <td>323284</td>\n",
       "    </tr>\n",
       "    <tr>\n",
       "      <th>1</th>\n",
       "      <td>2000</td>\n",
       "      <td>Private</td>\n",
       "      <td>288632</td>\n",
       "    </tr>\n",
       "    <tr>\n",
       "      <th>2</th>\n",
       "      <td>2004</td>\n",
       "      <td>Private</td>\n",
       "      <td>308567</td>\n",
       "    </tr>\n",
       "    <tr>\n",
       "      <th>3</th>\n",
       "      <td>2005</td>\n",
       "      <td>Private</td>\n",
       "      <td>401354</td>\n",
       "    </tr>\n",
       "    <tr>\n",
       "      <th>4</th>\n",
       "      <td>1998</td>\n",
       "      <td>Taxi</td>\n",
       "      <td>13813</td>\n",
       "    </tr>\n",
       "    <tr>\n",
       "      <th>...</th>\n",
       "      <td>...</td>\n",
       "      <td>...</td>\n",
       "      <td>...</td>\n",
       "    </tr>\n",
       "    <tr>\n",
       "      <th>155</th>\n",
       "      <td>2012</td>\n",
       "      <td>Vehicles</td>\n",
       "      <td>4110</td>\n",
       "    </tr>\n",
       "    <tr>\n",
       "      <th>156</th>\n",
       "      <td>2018</td>\n",
       "      <td>Vehicles</td>\n",
       "      <td>2324</td>\n",
       "    </tr>\n",
       "    <tr>\n",
       "      <th>157</th>\n",
       "      <td>1998</td>\n",
       "      <td>Total</td>\n",
       "      <td>507753</td>\n",
       "    </tr>\n",
       "    <tr>\n",
       "      <th>158</th>\n",
       "      <td>2011</td>\n",
       "      <td>Total</td>\n",
       "      <td>783537</td>\n",
       "    </tr>\n",
       "    <tr>\n",
       "      <th>159</th>\n",
       "      <td>2015</td>\n",
       "      <td>Total</td>\n",
       "      <td>1031179</td>\n",
       "    </tr>\n",
       "  </tbody>\n",
       "</table>\n",
       "<p>160 rows × 3 columns</p>\n",
       "</div>"
      ],
      "text/plain": [
       "     Year      Type  Number of Car Plates Issued\n",
       "0    1998   Private                       323284\n",
       "1    2000   Private                       288632\n",
       "2    2004   Private                       308567\n",
       "3    2005   Private                       401354\n",
       "4    1998      Taxi                        13813\n",
       "..    ...       ...                          ...\n",
       "155  2012  Vehicles                         4110\n",
       "156  2018  Vehicles                         2324\n",
       "157  1998     Total                       507753\n",
       "158  2011     Total                       783537\n",
       "159  2015     Total                      1031179\n",
       "\n",
       "[160 rows x 3 columns]"
      ]
     },
     "execution_count": 199,
     "metadata": {},
     "output_type": "execute_result"
    }
   ],
   "source": [
    "cars2 = pd.read_csv(\"saudi-arabia-car-plates-issued-in-the-kingdom-by-type-2004-2008.csv\", sep=';')\n",
    "cars2"
   ]
  },
  {
   "cell_type": "code",
   "execution_count": 200,
   "id": "af00b91a-76ce-40a0-9dab-3d2b46d59085",
   "metadata": {
    "tags": []
   },
   "outputs": [
    {
     "name": "stdout",
     "output_type": "stream",
     "text": [
      "<class 'pandas.core.frame.DataFrame'>\n",
      "RangeIndex: 160 entries, 0 to 159\n",
      "Data columns (total 3 columns):\n",
      " #   Column                       Non-Null Count  Dtype \n",
      "---  ------                       --------------  ----- \n",
      " 0   Year                         160 non-null    int64 \n",
      " 1   Type                         160 non-null    object\n",
      " 2   Number of Car Plates Issued  160 non-null    int64 \n",
      "dtypes: int64(2), object(1)\n",
      "memory usage: 3.9+ KB\n"
     ]
    }
   ],
   "source": [
    "cars2.info()"
   ]
  },
  {
   "cell_type": "code",
   "execution_count": 201,
   "id": "2a74bd18-7d98-43ae-bdd2-eb566a312a1f",
   "metadata": {
    "tags": []
   },
   "outputs": [
    {
     "data": {
      "text/plain": [
       "Type\n",
       "Private        23\n",
       "Taxi           23\n",
       "Trucks         23\n",
       "Bus            23\n",
       "Motor-Cycle    23\n",
       "Total          23\n",
       "Vehicles       22\n",
       "Name: count, dtype: int64"
      ]
     },
     "execution_count": 201,
     "metadata": {},
     "output_type": "execute_result"
    }
   ],
   "source": [
    "cars2['Type'].value_counts()"
   ]
  },
  {
   "cell_type": "code",
   "execution_count": 202,
   "id": "5d666db3-1617-4b9f-a44b-bc6d9ebf10a8",
   "metadata": {
    "tags": []
   },
   "outputs": [
    {
     "data": {
      "text/html": [
       "<div>\n",
       "<style scoped>\n",
       "    .dataframe tbody tr th:only-of-type {\n",
       "        vertical-align: middle;\n",
       "    }\n",
       "\n",
       "    .dataframe tbody tr th {\n",
       "        vertical-align: top;\n",
       "    }\n",
       "\n",
       "    .dataframe thead th {\n",
       "        text-align: right;\n",
       "    }\n",
       "</style>\n",
       "<table border=\"1\" class=\"dataframe\">\n",
       "  <thead>\n",
       "    <tr style=\"text-align: right;\">\n",
       "      <th></th>\n",
       "      <th>Year</th>\n",
       "      <th>Type</th>\n",
       "      <th>Number of Car Plates Issued</th>\n",
       "    </tr>\n",
       "  </thead>\n",
       "  <tbody>\n",
       "    <tr>\n",
       "      <th>0</th>\n",
       "      <td>1998</td>\n",
       "      <td>Private</td>\n",
       "      <td>323284</td>\n",
       "    </tr>\n",
       "    <tr>\n",
       "      <th>1</th>\n",
       "      <td>2000</td>\n",
       "      <td>Private</td>\n",
       "      <td>288632</td>\n",
       "    </tr>\n",
       "    <tr>\n",
       "      <th>2</th>\n",
       "      <td>2004</td>\n",
       "      <td>Private</td>\n",
       "      <td>308567</td>\n",
       "    </tr>\n",
       "    <tr>\n",
       "      <th>3</th>\n",
       "      <td>2005</td>\n",
       "      <td>Private</td>\n",
       "      <td>401354</td>\n",
       "    </tr>\n",
       "    <tr>\n",
       "      <th>4</th>\n",
       "      <td>1998</td>\n",
       "      <td>Taxi</td>\n",
       "      <td>13813</td>\n",
       "    </tr>\n",
       "    <tr>\n",
       "      <th>...</th>\n",
       "      <td>...</td>\n",
       "      <td>...</td>\n",
       "      <td>...</td>\n",
       "    </tr>\n",
       "    <tr>\n",
       "      <th>152</th>\n",
       "      <td>2019</td>\n",
       "      <td>Motor-Cycle</td>\n",
       "      <td>4719</td>\n",
       "    </tr>\n",
       "    <tr>\n",
       "      <th>153</th>\n",
       "      <td>1998</td>\n",
       "      <td>Vehicles</td>\n",
       "      <td>30</td>\n",
       "    </tr>\n",
       "    <tr>\n",
       "      <th>154</th>\n",
       "      <td>2000</td>\n",
       "      <td>Vehicles</td>\n",
       "      <td>469</td>\n",
       "    </tr>\n",
       "    <tr>\n",
       "      <th>155</th>\n",
       "      <td>2012</td>\n",
       "      <td>Vehicles</td>\n",
       "      <td>4110</td>\n",
       "    </tr>\n",
       "    <tr>\n",
       "      <th>156</th>\n",
       "      <td>2018</td>\n",
       "      <td>Vehicles</td>\n",
       "      <td>2324</td>\n",
       "    </tr>\n",
       "  </tbody>\n",
       "</table>\n",
       "<p>114 rows × 3 columns</p>\n",
       "</div>"
      ],
      "text/plain": [
       "     Year         Type  Number of Car Plates Issued\n",
       "0    1998      Private                       323284\n",
       "1    2000      Private                       288632\n",
       "2    2004      Private                       308567\n",
       "3    2005      Private                       401354\n",
       "4    1998         Taxi                        13813\n",
       "..    ...          ...                          ...\n",
       "152  2019  Motor-Cycle                         4719\n",
       "153  1998     Vehicles                           30\n",
       "154  2000     Vehicles                          469\n",
       "155  2012     Vehicles                         4110\n",
       "156  2018     Vehicles                         2324\n",
       "\n",
       "[114 rows x 3 columns]"
      ]
     },
     "execution_count": 202,
     "metadata": {},
     "output_type": "execute_result"
    }
   ],
   "source": [
    "index = cars2[(cars2['Type'] == 'Bus') | (cars2['Type'] == 'Total')].index\n",
    "cars2.drop(index , inplace=True)\n",
    "cars2"
   ]
  },
  {
   "cell_type": "code",
   "execution_count": 203,
   "id": "b836ab24-0385-402b-b550-40d897903508",
   "metadata": {
    "tags": []
   },
   "outputs": [
    {
     "data": {
      "text/plain": [
       "1398692"
      ]
     },
     "execution_count": 203,
     "metadata": {},
     "output_type": "execute_result"
    }
   ],
   "source": [
    "y = cars2.groupby('Year')['Number of Car Plates Issued'].sum()\n",
    "y[2018]"
   ]
  },
  {
   "cell_type": "code",
   "execution_count": 204,
   "id": "a86a1fe5-db0b-437f-89cb-4ec336de7c67",
   "metadata": {
    "tags": []
   },
   "outputs": [
    {
     "data": {
      "text/html": [
       "<div>\n",
       "<style scoped>\n",
       "    .dataframe tbody tr th:only-of-type {\n",
       "        vertical-align: middle;\n",
       "    }\n",
       "\n",
       "    .dataframe tbody tr th {\n",
       "        vertical-align: top;\n",
       "    }\n",
       "\n",
       "    .dataframe thead th {\n",
       "        text-align: right;\n",
       "    }\n",
       "</style>\n",
       "<table border=\"1\" class=\"dataframe\">\n",
       "  <thead>\n",
       "    <tr style=\"text-align: right;\">\n",
       "      <th></th>\n",
       "      <th>Region</th>\n",
       "      <th>Year</th>\n",
       "      <th>Gender</th>\n",
       "      <th>Nationality</th>\n",
       "      <th>Population estimates</th>\n",
       "    </tr>\n",
       "  </thead>\n",
       "  <tbody>\n",
       "    <tr>\n",
       "      <th>37</th>\n",
       "      <td>Riyadh</td>\n",
       "      <td>2016</td>\n",
       "      <td>Male</td>\n",
       "      <td>Saudi</td>\n",
       "      <td>1948993</td>\n",
       "    </tr>\n",
       "    <tr>\n",
       "      <th>38</th>\n",
       "      <td>Riyadh</td>\n",
       "      <td>2017</td>\n",
       "      <td>Male</td>\n",
       "      <td>Saudi</td>\n",
       "      <td>1988653</td>\n",
       "    </tr>\n",
       "    <tr>\n",
       "      <th>95</th>\n",
       "      <td>Riyadh</td>\n",
       "      <td>2010</td>\n",
       "      <td>Male</td>\n",
       "      <td>Saudi</td>\n",
       "      <td>1669970</td>\n",
       "    </tr>\n",
       "    <tr>\n",
       "      <th>180</th>\n",
       "      <td>Riyadh</td>\n",
       "      <td>2012</td>\n",
       "      <td>Male</td>\n",
       "      <td>Saudi</td>\n",
       "      <td>1746263</td>\n",
       "    </tr>\n",
       "    <tr>\n",
       "      <th>326</th>\n",
       "      <td>Riyadh</td>\n",
       "      <td>2015</td>\n",
       "      <td>Male</td>\n",
       "      <td>Saudi</td>\n",
       "      <td>1903165</td>\n",
       "    </tr>\n",
       "    <tr>\n",
       "      <th>327</th>\n",
       "      <td>Riyadh</td>\n",
       "      <td>2020</td>\n",
       "      <td>Male</td>\n",
       "      <td>Saudi</td>\n",
       "      <td>2144437</td>\n",
       "    </tr>\n",
       "    <tr>\n",
       "      <th>369</th>\n",
       "      <td>Riyadh</td>\n",
       "      <td>2014</td>\n",
       "      <td>Male</td>\n",
       "      <td>Saudi</td>\n",
       "      <td>1850887</td>\n",
       "    </tr>\n",
       "    <tr>\n",
       "      <th>463</th>\n",
       "      <td>Riyadh</td>\n",
       "      <td>2021</td>\n",
       "      <td>Male</td>\n",
       "      <td>Saudi</td>\n",
       "      <td>2192321</td>\n",
       "    </tr>\n",
       "    <tr>\n",
       "      <th>467</th>\n",
       "      <td>Riyadh</td>\n",
       "      <td>2011</td>\n",
       "      <td>Male</td>\n",
       "      <td>Saudi</td>\n",
       "      <td>1704831</td>\n",
       "    </tr>\n",
       "    <tr>\n",
       "      <th>534</th>\n",
       "      <td>Riyadh</td>\n",
       "      <td>2013</td>\n",
       "      <td>Male</td>\n",
       "      <td>Saudi</td>\n",
       "      <td>1794724</td>\n",
       "    </tr>\n",
       "    <tr>\n",
       "      <th>560</th>\n",
       "      <td>Riyadh</td>\n",
       "      <td>2018</td>\n",
       "      <td>Male</td>\n",
       "      <td>Saudi</td>\n",
       "      <td>2035530</td>\n",
       "    </tr>\n",
       "    <tr>\n",
       "      <th>573</th>\n",
       "      <td>Riyadh</td>\n",
       "      <td>2019</td>\n",
       "      <td>Male</td>\n",
       "      <td>Saudi</td>\n",
       "      <td>2086662</td>\n",
       "    </tr>\n",
       "    <tr>\n",
       "      <th>626</th>\n",
       "      <td>Riyadh</td>\n",
       "      <td>2022</td>\n",
       "      <td>Male</td>\n",
       "      <td>Saudi</td>\n",
       "      <td>2242045</td>\n",
       "    </tr>\n",
       "  </tbody>\n",
       "</table>\n",
       "</div>"
      ],
      "text/plain": [
       "     Region  Year Gender Nationality  Population estimates\n",
       "37   Riyadh  2016   Male       Saudi               1948993\n",
       "38   Riyadh  2017   Male       Saudi               1988653\n",
       "95   Riyadh  2010   Male       Saudi               1669970\n",
       "180  Riyadh  2012   Male       Saudi               1746263\n",
       "326  Riyadh  2015   Male       Saudi               1903165\n",
       "327  Riyadh  2020   Male       Saudi               2144437\n",
       "369  Riyadh  2014   Male       Saudi               1850887\n",
       "463  Riyadh  2021   Male       Saudi               2192321\n",
       "467  Riyadh  2011   Male       Saudi               1704831\n",
       "534  Riyadh  2013   Male       Saudi               1794724\n",
       "560  Riyadh  2018   Male       Saudi               2035530\n",
       "573  Riyadh  2019   Male       Saudi               2086662\n",
       "626  Riyadh  2022   Male       Saudi               2242045"
      ]
     },
     "execution_count": 204,
     "metadata": {},
     "output_type": "execute_result"
    }
   ],
   "source": [
    "RiyadhPop = Population[(Population['Nationality'] == 'Saudi') & (Population['Gender'] == 'Male') & (Population['Region'] == 'Riyadh')]\n",
    "RiyadhPop"
   ]
  },
  {
   "cell_type": "code",
   "execution_count": 205,
   "id": "aec4edfb-d741-4da0-8ab4-a7d972102137",
   "metadata": {
    "tags": []
   },
   "outputs": [
    {
     "data": {
      "text/plain": [
       "2035530"
      ]
     },
     "execution_count": 205,
     "metadata": {},
     "output_type": "execute_result"
    }
   ],
   "source": [
    "p = RiyadhPop.groupby('Year')['Population estimates'].sum()\n",
    "p[2018]"
   ]
  },
  {
   "cell_type": "code",
   "execution_count": 206,
   "id": "174eafc3-c117-48c8-8d3f-2a5270585ec3",
   "metadata": {
    "tags": []
   },
   "outputs": [
    {
     "data": {
      "text/html": [
       "<div>\n",
       "<style scoped>\n",
       "    .dataframe tbody tr th:only-of-type {\n",
       "        vertical-align: middle;\n",
       "    }\n",
       "\n",
       "    .dataframe tbody tr th {\n",
       "        vertical-align: top;\n",
       "    }\n",
       "\n",
       "    .dataframe thead th {\n",
       "        text-align: right;\n",
       "    }\n",
       "</style>\n",
       "<table border=\"1\" class=\"dataframe\">\n",
       "  <thead>\n",
       "    <tr style=\"text-align: right;\">\n",
       "      <th></th>\n",
       "      <th>Category</th>\n",
       "      <th>Volume</th>\n",
       "    </tr>\n",
       "  </thead>\n",
       "  <tbody>\n",
       "    <tr>\n",
       "      <th>1</th>\n",
       "      <td>Riyadh Population</td>\n",
       "      <td>25308481</td>\n",
       "    </tr>\n",
       "    <tr>\n",
       "      <th>2</th>\n",
       "      <td>Vehicles</td>\n",
       "      <td>16842140</td>\n",
       "    </tr>\n",
       "    <tr>\n",
       "      <th>3</th>\n",
       "      <td>Riyadh Population of 2018</td>\n",
       "      <td>2035530</td>\n",
       "    </tr>\n",
       "    <tr>\n",
       "      <th>4</th>\n",
       "      <td>Vehicles of 2018</td>\n",
       "      <td>1398692</td>\n",
       "    </tr>\n",
       "  </tbody>\n",
       "</table>\n",
       "</div>"
      ],
      "text/plain": [
       "                    Category    Volume\n",
       "1          Riyadh Population  25308481\n",
       "2                   Vehicles  16842140\n",
       "3  Riyadh Population of 2018   2035530\n",
       "4           Vehicles of 2018   1398692"
      ]
     },
     "execution_count": 206,
     "metadata": {},
     "output_type": "execute_result"
    }
   ],
   "source": [
    "x = pd.DataFrame(columns = ['Category', 'Volume'])\n",
    "x.loc[1] = [\"Riyadh Population\",RiyadhPop['Population estimates'].sum()]\n",
    "x.loc[2] = [\"Vehicles\",cars2['Number of Car Plates Issued'].sum()]\n",
    "x.loc[3] = [\"Riyadh Population of 2018\",p[2018]]\n",
    "x.loc[4] = [\"Vehicles of 2018\",y[2018]]\n",
    "x"
   ]
  },
  {
   "cell_type": "code",
   "execution_count": 209,
   "id": "da1cc65f-dd40-4719-a1e9-5635e16337c2",
   "metadata": {
    "tags": []
   },
   "outputs": [
    {
     "data": {
      "image/png": "[encoded data removed]",
      "text/plain": [
       "<Figure size 1000x600 with 1 Axes>"
      ]
     },
     "metadata": {},
     "output_type": "display_data"
    }
   ],
   "source": [
    "plt.figure(figsize=(10,6))\n",
    "\n",
    "plt.bar(\n",
    "    data=x,\n",
    "    x='Category', \n",
    "    height='Volume',\n",
    ")\n",
    "plt.ylabel('Volume')\n",
    "plt.show()"
   ]
  },
  {
   "cell_type": "markdown",
   "id": "b1ced4cb-238e-439b-8659-b48f3fdea585",
   "metadata": {
    "tags": []
   },
   "source": [
    "# Insights: \n",
    "- Vehicles Volume is 3/4 riyadh Population\n",
    "- the plates issued in 2018 alone is almost = to the riyadh Population in 2018"
   ]
  },
  {
   "cell_type": "code",
   "execution_count": 154,
   "id": "116122b3-5aeb-47c4-96d4-5e152d30527a",
   "metadata": {
    "tags": []
   },
   "outputs": [
    {
     "data": {
      "text/html": [
       "<div>\n",
       "<style scoped>\n",
       "    .dataframe tbody tr th:only-of-type {\n",
       "        vertical-align: middle;\n",
       "    }\n",
       "\n",
       "    .dataframe tbody tr th {\n",
       "        vertical-align: top;\n",
       "    }\n",
       "\n",
       "    .dataframe thead th {\n",
       "        text-align: right;\n",
       "    }\n",
       "</style>\n",
       "<table border=\"1\" class=\"dataframe\">\n",
       "  <thead>\n",
       "    <tr style=\"text-align: right;\">\n",
       "      <th></th>\n",
       "      <th>Unnamed: 0</th>\n",
       "      <th>Unnamed: 1</th>\n",
       "      <th>Unnamed: 2</th>\n",
       "      <th>Unnamed: 3</th>\n",
       "      <th>Unnamed: 4</th>\n",
       "      <th>Unnamed: 5</th>\n",
       "      <th>Unnamed: 6</th>\n",
       "      <th>Unnamed: 7</th>\n",
       "      <th>Unnamed: 8</th>\n",
       "    </tr>\n",
       "  </thead>\n",
       "  <tbody>\n",
       "    <tr>\n",
       "      <th>0</th>\n",
       "      <td>NaN</td>\n",
       "      <td>NaN</td>\n",
       "      <td>NaN</td>\n",
       "      <td>NaN</td>\n",
       "      <td>NaN</td>\n",
       "      <td>NaN</td>\n",
       "      <td>NaN</td>\n",
       "      <td>NaN</td>\n",
       "      <td>NaN</td>\n",
       "    </tr>\n",
       "    <tr>\n",
       "      <th>1</th>\n",
       "      <td>NaN</td>\n",
       "      <td>NaN</td>\n",
       "      <td>NaN</td>\n",
       "      <td>NaN</td>\n",
       "      <td>NaN</td>\n",
       "      <td>NaN</td>\n",
       "      <td>NaN</td>\n",
       "      <td>NaN</td>\n",
       "      <td>NaN</td>\n",
       "    </tr>\n",
       "    <tr>\n",
       "      <th>2</th>\n",
       "      <td>NaN</td>\n",
       "      <td>NaN</td>\n",
       "      <td>NaN</td>\n",
       "      <td>NaN</td>\n",
       "      <td>NaN</td>\n",
       "      <td>NaN</td>\n",
       "      <td>NaN</td>\n",
       "      <td>NaN</td>\n",
       "      <td>NaN</td>\n",
       "    </tr>\n",
       "    <tr>\n",
       "      <th>3</th>\n",
       "      <td>NaN</td>\n",
       "      <td>NaN</td>\n",
       "      <td>NaN</td>\n",
       "      <td>NaN</td>\n",
       "      <td>NaN</td>\n",
       "      <td>NaN</td>\n",
       "      <td>NaN</td>\n",
       "      <td>NaN</td>\n",
       "      <td>NaN</td>\n",
       "    </tr>\n",
       "    <tr>\n",
       "      <th>4</th>\n",
       "      <td>NaN</td>\n",
       "      <td>NaN</td>\n",
       "      <td>NaN</td>\n",
       "      <td>NaN</td>\n",
       "      <td>NaN</td>\n",
       "      <td>NaN</td>\n",
       "      <td>NaN</td>\n",
       "      <td>NaN</td>\n",
       "      <td>NaN</td>\n",
       "    </tr>\n",
       "    <tr>\n",
       "      <th>5</th>\n",
       "      <td>NaN</td>\n",
       "      <td>المدينة</td>\n",
       "      <td>اجمالي عدد ركاب النقل العام خلال السنة(2016)</td>\n",
       "      <td>اجمالي عدد ركاب النقل العام خلال السنة(2017)</td>\n",
       "      <td>اجمالي عدد ركاب النقل العام خلال السنة(2018)</td>\n",
       "      <td>اجمالي عدد ركاب النقل العام خلال السنة(2019)</td>\n",
       "      <td>اجمالي عدد ركاب النقل العام خلال السنة(2020)</td>\n",
       "      <td>اجمالي عدد ركاب النقل العام خلال السنة(2021)</td>\n",
       "      <td>اجمالي عدد ركاب النقل العام خلال السنة(2022)</td>\n",
       "    </tr>\n",
       "    <tr>\n",
       "      <th>6</th>\n",
       "      <td>NaN</td>\n",
       "      <td>الرياض</td>\n",
       "      <td>1409890.5</td>\n",
       "      <td>1690540</td>\n",
       "      <td>5082110.928571</td>\n",
       "      <td>8142886</td>\n",
       "      <td>3911449</td>\n",
       "      <td>5813692</td>\n",
       "      <td>6017436</td>\n",
       "    </tr>\n",
       "    <tr>\n",
       "      <th>7</th>\n",
       "      <td>NaN</td>\n",
       "      <td>جدة</td>\n",
       "      <td>853839</td>\n",
       "      <td>1161330.5</td>\n",
       "      <td>2769925.944444</td>\n",
       "      <td>4033215</td>\n",
       "      <td>2287532</td>\n",
       "      <td>3992553</td>\n",
       "      <td>4401483</td>\n",
       "    </tr>\n",
       "    <tr>\n",
       "      <th>8</th>\n",
       "      <td>NaN</td>\n",
       "      <td>المدينة المنورة</td>\n",
       "      <td>1370139.9</td>\n",
       "      <td>1902893.8</td>\n",
       "      <td>1496747.079365</td>\n",
       "      <td>1287501</td>\n",
       "      <td>203355</td>\n",
       "      <td>0</td>\n",
       "      <td>287539</td>\n",
       "    </tr>\n",
       "    <tr>\n",
       "      <th>9</th>\n",
       "      <td>NaN</td>\n",
       "      <td>الدمام</td>\n",
       "      <td>650363</td>\n",
       "      <td>729328.5</td>\n",
       "      <td>444746.4</td>\n",
       "      <td>267401</td>\n",
       "      <td>73683.333333</td>\n",
       "      <td>0</td>\n",
       "      <td>54849</td>\n",
       "    </tr>\n",
       "  </tbody>\n",
       "</table>\n",
       "</div>"
      ],
      "text/plain": [
       "   Unnamed: 0        Unnamed: 1                                    Unnamed: 2  \\\n",
       "0         NaN               NaN                                           NaN   \n",
       "1         NaN               NaN                                           NaN   \n",
       "2         NaN               NaN                                           NaN   \n",
       "3         NaN               NaN                                           NaN   \n",
       "4         NaN               NaN                                           NaN   \n",
       "5         NaN          المدينة   اجمالي عدد ركاب النقل العام خلال السنة(2016)   \n",
       "6         NaN            الرياض                                     1409890.5   \n",
       "7         NaN               جدة                                        853839   \n",
       "8         NaN  المدينة المنورة                                      1370139.9   \n",
       "9         NaN           الدمام                                         650363   \n",
       "\n",
       "                                     Unnamed: 3  \\\n",
       "0                                           NaN   \n",
       "1                                           NaN   \n",
       "2                                           NaN   \n",
       "3                                           NaN   \n",
       "4                                           NaN   \n",
       "5  اجمالي عدد ركاب النقل العام خلال السنة(2017)   \n",
       "6                                       1690540   \n",
       "7                                     1161330.5   \n",
       "8                                     1902893.8   \n",
       "9                                      729328.5   \n",
       "\n",
       "                                     Unnamed: 4  \\\n",
       "0                                           NaN   \n",
       "1                                           NaN   \n",
       "2                                           NaN   \n",
       "3                                           NaN   \n",
       "4                                           NaN   \n",
       "5  اجمالي عدد ركاب النقل العام خلال السنة(2018)   \n",
       "6                                5082110.928571   \n",
       "7                                2769925.944444   \n",
       "8                                1496747.079365   \n",
       "9                                      444746.4   \n",
       "\n",
       "                                     Unnamed: 5  \\\n",
       "0                                           NaN   \n",
       "1                                           NaN   \n",
       "2                                           NaN   \n",
       "3                                           NaN   \n",
       "4                                           NaN   \n",
       "5  اجمالي عدد ركاب النقل العام خلال السنة(2019)   \n",
       "6                                       8142886   \n",
       "7                                       4033215   \n",
       "8                                       1287501   \n",
       "9                                        267401   \n",
       "\n",
       "                                     Unnamed: 6  \\\n",
       "0                                           NaN   \n",
       "1                                           NaN   \n",
       "2                                           NaN   \n",
       "3                                           NaN   \n",
       "4                                           NaN   \n",
       "5  اجمالي عدد ركاب النقل العام خلال السنة(2020)   \n",
       "6                                       3911449   \n",
       "7                                       2287532   \n",
       "8                                        203355   \n",
       "9                                  73683.333333   \n",
       "\n",
       "                                     Unnamed: 7  \\\n",
       "0                                           NaN   \n",
       "1                                           NaN   \n",
       "2                                           NaN   \n",
       "3                                           NaN   \n",
       "4                                           NaN   \n",
       "5  اجمالي عدد ركاب النقل العام خلال السنة(2021)   \n",
       "6                                       5813692   \n",
       "7                                       3992553   \n",
       "8                                             0   \n",
       "9                                             0   \n",
       "\n",
       "                                     Unnamed: 8  \n",
       "0                                           NaN  \n",
       "1                                           NaN  \n",
       "2                                           NaN  \n",
       "3                                           NaN  \n",
       "4                                           NaN  \n",
       "5  اجمالي عدد ركاب النقل العام خلال السنة(2022)  \n",
       "6                                       6017436  \n",
       "7                                       4401483  \n",
       "8                                        287539  \n",
       "9                                         54849  "
      ]
     },
     "execution_count": 154,
     "metadata": {},
     "output_type": "execute_result"
    }
   ],
   "source": [
    "public_transport_KSA = pd.read_excel(\"the-number-of-public-transport-passengers-by-year-and-city_team2.xlsx\")\n",
    "public_transport_KSA"
   ]
  },
  {
   "cell_type": "code",
   "execution_count": 155,
   "id": "3b7c4136-454a-4f98-b560-593bf72a62cb",
   "metadata": {
    "tags": []
   },
   "outputs": [
    {
     "data": {
      "text/html": [
       "<div>\n",
       "<style scoped>\n",
       "    .dataframe tbody tr th:only-of-type {\n",
       "        vertical-align: middle;\n",
       "    }\n",
       "\n",
       "    .dataframe tbody tr th {\n",
       "        vertical-align: top;\n",
       "    }\n",
       "\n",
       "    .dataframe thead th {\n",
       "        text-align: right;\n",
       "    }\n",
       "</style>\n",
       "<table border=\"1\" class=\"dataframe\">\n",
       "  <thead>\n",
       "    <tr style=\"text-align: right;\">\n",
       "      <th></th>\n",
       "      <th>المدينة</th>\n",
       "      <th>اجمالي عدد ركاب النقل العام خلال السنة(2016)</th>\n",
       "      <th>اجمالي عدد ركاب النقل العام خلال السنة(2017)</th>\n",
       "      <th>اجمالي عدد ركاب النقل العام خلال السنة(2018)</th>\n",
       "      <th>اجمالي عدد ركاب النقل العام خلال السنة(2019)</th>\n",
       "      <th>اجمالي عدد ركاب النقل العام خلال السنة(2020)</th>\n",
       "      <th>اجمالي عدد ركاب النقل العام خلال السنة(2021)</th>\n",
       "      <th>اجمالي عدد ركاب النقل العام خلال السنة(2022)</th>\n",
       "    </tr>\n",
       "  </thead>\n",
       "  <tbody>\n",
       "    <tr>\n",
       "      <th>6</th>\n",
       "      <td>الرياض</td>\n",
       "      <td>1409890.5</td>\n",
       "      <td>1690540</td>\n",
       "      <td>5082110.928571</td>\n",
       "      <td>8142886</td>\n",
       "      <td>3911449</td>\n",
       "      <td>5813692</td>\n",
       "      <td>6017436</td>\n",
       "    </tr>\n",
       "    <tr>\n",
       "      <th>7</th>\n",
       "      <td>جدة</td>\n",
       "      <td>853839</td>\n",
       "      <td>1161330.5</td>\n",
       "      <td>2769925.944444</td>\n",
       "      <td>4033215</td>\n",
       "      <td>2287532</td>\n",
       "      <td>3992553</td>\n",
       "      <td>4401483</td>\n",
       "    </tr>\n",
       "    <tr>\n",
       "      <th>8</th>\n",
       "      <td>المدينة المنورة</td>\n",
       "      <td>1370139.9</td>\n",
       "      <td>1902893.8</td>\n",
       "      <td>1496747.079365</td>\n",
       "      <td>1287501</td>\n",
       "      <td>203355</td>\n",
       "      <td>0</td>\n",
       "      <td>287539</td>\n",
       "    </tr>\n",
       "    <tr>\n",
       "      <th>9</th>\n",
       "      <td>الدمام</td>\n",
       "      <td>650363</td>\n",
       "      <td>729328.5</td>\n",
       "      <td>444746.4</td>\n",
       "      <td>267401</td>\n",
       "      <td>73683.333333</td>\n",
       "      <td>0</td>\n",
       "      <td>54849</td>\n",
       "    </tr>\n",
       "  </tbody>\n",
       "</table>\n",
       "</div>"
      ],
      "text/plain": [
       "           المدينة  اجمالي عدد ركاب النقل العام خلال السنة(2016)  \\\n",
       "6            الرياض                                    1409890.5   \n",
       "7               جدة                                       853839   \n",
       "8  المدينة المنورة                                     1370139.9   \n",
       "9           الدمام                                        650363   \n",
       "\n",
       "  اجمالي عدد ركاب النقل العام خلال السنة(2017)  \\\n",
       "6                                      1690540   \n",
       "7                                    1161330.5   \n",
       "8                                    1902893.8   \n",
       "9                                     729328.5   \n",
       "\n",
       "  اجمالي عدد ركاب النقل العام خلال السنة(2018)  \\\n",
       "6                               5082110.928571   \n",
       "7                               2769925.944444   \n",
       "8                               1496747.079365   \n",
       "9                                     444746.4   \n",
       "\n",
       "  اجمالي عدد ركاب النقل العام خلال السنة(2019)  \\\n",
       "6                                      8142886   \n",
       "7                                      4033215   \n",
       "8                                      1287501   \n",
       "9                                       267401   \n",
       "\n",
       "  اجمالي عدد ركاب النقل العام خلال السنة(2020)  \\\n",
       "6                                      3911449   \n",
       "7                                      2287532   \n",
       "8                                       203355   \n",
       "9                                 73683.333333   \n",
       "\n",
       "  اجمالي عدد ركاب النقل العام خلال السنة(2021)  \\\n",
       "6                                      5813692   \n",
       "7                                      3992553   \n",
       "8                                            0   \n",
       "9                                            0   \n",
       "\n",
       "  اجمالي عدد ركاب النقل العام خلال السنة(2022)  \n",
       "6                                      6017436  \n",
       "7                                      4401483  \n",
       "8                                       287539  \n",
       "9                                        54849  "
      ]
     },
     "execution_count": 155,
     "metadata": {},
     "output_type": "execute_result"
    }
   ],
   "source": [
    "public_transport_KSA = public_transport_KSA.drop([0,1,2,3,4])\n",
    "public_transport_KSA = public_transport_KSA.drop('Unnamed: 0', axis=1)\n",
    "row = public_transport_KSA.iloc[0]#The iloc() method can be used to select rows and columns from a DataFrame by index label. \n",
    "col_mapp = {\n",
    "    'Unnamed: 1': row.iloc[0],\n",
    "    'Unnamed: 2': row.iloc[1],\n",
    "    'Unnamed: 3': row.iloc[2],\n",
    "    'Unnamed: 4': row.iloc[3],\n",
    "    'Unnamed: 5': row.iloc[4],\n",
    "    'Unnamed: 6': row.iloc[5],\n",
    "    'Unnamed: 7': row.iloc[6],\n",
    "    'Unnamed: 8': row.iloc[7]\n",
    "}\n",
    "public_transport_KSA =public_transport_KSA.set_axis(list(col_mapp.values()), axis=1)\n",
    "public_transport_KSA = public_transport_KSA.drop(5)\n",
    "public_transport_KSA"
   ]
  },
  {
   "cell_type": "code",
   "execution_count": 213,
   "id": "5a7ae4f7-cbb2-448a-98ed-e93546c1f33b",
   "metadata": {
    "tags": []
   },
   "outputs": [
    {
     "data": {
      "text/plain": [
       "المدينة                                         object\n",
       "اجمالي عدد ركاب النقل العام خلال السنة(2016)    object\n",
       "اجمالي عدد ركاب النقل العام خلال السنة(2017)    object\n",
       "اجمالي عدد ركاب النقل العام خلال السنة(2018)    object\n",
       "اجمالي عدد ركاب النقل العام خلال السنة(2019)    object\n",
       "اجمالي عدد ركاب النقل العام خلال السنة(2020)    object\n",
       "اجمالي عدد ركاب النقل العام خلال السنة(2021)    object\n",
       "اجمالي عدد ركاب النقل العام خلال السنة(2022)    object\n",
       "dtype: object"
      ]
     },
     "execution_count": 213,
     "metadata": {},
     "output_type": "execute_result"
    }
   ],
   "source": [
    "public_transport_KSA.dtypes"
   ]
  },
  {
   "cell_type": "code",
   "execution_count": 233,
   "id": "3f7bc462-6fc8-4860-9d46-995b87ee6ca6",
   "metadata": {
    "tags": []
   },
   "outputs": [
    {
     "data": {
      "text/html": [
       "<div>\n",
       "<style scoped>\n",
       "    .dataframe tbody tr th:only-of-type {\n",
       "        vertical-align: middle;\n",
       "    }\n",
       "\n",
       "    .dataframe tbody tr th {\n",
       "        vertical-align: top;\n",
       "    }\n",
       "\n",
       "    .dataframe thead th {\n",
       "        text-align: right;\n",
       "    }\n",
       "</style>\n",
       "<table border=\"1\" class=\"dataframe\">\n",
       "  <thead>\n",
       "    <tr style=\"text-align: right;\">\n",
       "      <th></th>\n",
       "      <th>المدينة</th>\n",
       "      <th>اجمالي عدد ركاب النقل العام خلال السنة(2016)</th>\n",
       "      <th>اجمالي عدد ركاب النقل العام خلال السنة(2017)</th>\n",
       "      <th>اجمالي عدد ركاب النقل العام خلال السنة(2018)</th>\n",
       "      <th>اجمالي عدد ركاب النقل العام خلال السنة(2019)</th>\n",
       "      <th>اجمالي عدد ركاب النقل العام خلال السنة(2020)</th>\n",
       "      <th>اجمالي عدد ركاب النقل العام خلال السنة(2021)</th>\n",
       "      <th>اجمالي عدد ركاب النقل العام خلال السنة(2022)</th>\n",
       "    </tr>\n",
       "  </thead>\n",
       "  <tbody>\n",
       "    <tr>\n",
       "      <th>6</th>\n",
       "      <td>Riyadh</td>\n",
       "      <td>1409890.5</td>\n",
       "      <td>1690540</td>\n",
       "      <td>5082110.928571</td>\n",
       "      <td>8142886</td>\n",
       "      <td>3911449</td>\n",
       "      <td>5813692</td>\n",
       "      <td>6017436</td>\n",
       "    </tr>\n",
       "    <tr>\n",
       "      <th>7</th>\n",
       "      <td>Jeddah</td>\n",
       "      <td>853839</td>\n",
       "      <td>1161330.5</td>\n",
       "      <td>2769925.944444</td>\n",
       "      <td>4033215</td>\n",
       "      <td>2287532</td>\n",
       "      <td>3992553</td>\n",
       "      <td>4401483</td>\n",
       "    </tr>\n",
       "    <tr>\n",
       "      <th>8</th>\n",
       "      <td>Al-madinah</td>\n",
       "      <td>1370139.9</td>\n",
       "      <td>1902893.8</td>\n",
       "      <td>1496747.079365</td>\n",
       "      <td>1287501</td>\n",
       "      <td>203355</td>\n",
       "      <td>0</td>\n",
       "      <td>287539</td>\n",
       "    </tr>\n",
       "    <tr>\n",
       "      <th>9</th>\n",
       "      <td>Dammam</td>\n",
       "      <td>650363</td>\n",
       "      <td>729328.5</td>\n",
       "      <td>444746.4</td>\n",
       "      <td>267401</td>\n",
       "      <td>73683.333333</td>\n",
       "      <td>0</td>\n",
       "      <td>54849</td>\n",
       "    </tr>\n",
       "  </tbody>\n",
       "</table>\n",
       "</div>"
      ],
      "text/plain": [
       "     المدينة  اجمالي عدد ركاب النقل العام خلال السنة(2016)  \\\n",
       "6      Riyadh                                    1409890.5   \n",
       "7      Jeddah                                       853839   \n",
       "8  Al-madinah                                    1370139.9   \n",
       "9      Dammam                                       650363   \n",
       "\n",
       "  اجمالي عدد ركاب النقل العام خلال السنة(2017)  \\\n",
       "6                                      1690540   \n",
       "7                                    1161330.5   \n",
       "8                                    1902893.8   \n",
       "9                                     729328.5   \n",
       "\n",
       "  اجمالي عدد ركاب النقل العام خلال السنة(2018)  \\\n",
       "6                               5082110.928571   \n",
       "7                               2769925.944444   \n",
       "8                               1496747.079365   \n",
       "9                                     444746.4   \n",
       "\n",
       "  اجمالي عدد ركاب النقل العام خلال السنة(2019)  \\\n",
       "6                                      8142886   \n",
       "7                                      4033215   \n",
       "8                                      1287501   \n",
       "9                                       267401   \n",
       "\n",
       "  اجمالي عدد ركاب النقل العام خلال السنة(2020)  \\\n",
       "6                                      3911449   \n",
       "7                                      2287532   \n",
       "8                                       203355   \n",
       "9                                 73683.333333   \n",
       "\n",
       "  اجمالي عدد ركاب النقل العام خلال السنة(2021)  \\\n",
       "6                                      5813692   \n",
       "7                                      3992553   \n",
       "8                                            0   \n",
       "9                                            0   \n",
       "\n",
       "  اجمالي عدد ركاب النقل العام خلال السنة(2022)  \n",
       "6                                      6017436  \n",
       "7                                      4401483  \n",
       "8                                       287539  \n",
       "9                                        54849  "
      ]
     },
     "execution_count": 233,
     "metadata": {},
     "output_type": "execute_result"
    }
   ],
   "source": [
    "public_transport_KSA.iloc[:,0] = ['Riyadh','Jeddah', 'Al-madinah', 'Dammam']\n",
    "public_transport_KSA"
   ]
  },
  {
   "cell_type": "code",
   "execution_count": 240,
   "id": "15e4c7ce-471e-4583-ae47-a47f40461110",
   "metadata": {
    "tags": []
   },
   "outputs": [
    {
     "data": {
      "text/plain": [
       "1409890.5"
      ]
     },
     "execution_count": 240,
     "metadata": {},
     "output_type": "execute_result"
    }
   ],
   "source": [
    "public_transport_KSA.iloc[0][1]"
   ]
  },
  {
   "cell_type": "code",
   "execution_count": 261,
   "id": "576e322c-cbe5-4cdb-85b0-d57d92da3a16",
   "metadata": {
    "tags": []
   },
   "outputs": [
    {
     "data": {
      "text/html": [
       "<div>\n",
       "<style scoped>\n",
       "    .dataframe tbody tr th:only-of-type {\n",
       "        vertical-align: middle;\n",
       "    }\n",
       "\n",
       "    .dataframe tbody tr th {\n",
       "        vertical-align: top;\n",
       "    }\n",
       "\n",
       "    .dataframe thead th {\n",
       "        text-align: right;\n",
       "    }\n",
       "</style>\n",
       "<table border=\"1\" class=\"dataframe\">\n",
       "  <thead>\n",
       "    <tr style=\"text-align: right;\">\n",
       "      <th></th>\n",
       "      <th>City</th>\n",
       "      <th>Year</th>\n",
       "      <th>Volume</th>\n",
       "    </tr>\n",
       "  </thead>\n",
       "  <tbody>\n",
       "  </tbody>\n",
       "</table>\n",
       "</div>"
      ],
      "text/plain": [
       "Empty DataFrame\n",
       "Columns: [City, Year, Volume]\n",
       "Index: []"
      ]
     },
     "execution_count": 261,
     "metadata": {},
     "output_type": "execute_result"
    }
   ],
   "source": [
    "TransKSA = pd.DataFrame(columns = ['City', 'Year', 'Volume'])\n",
    "TransKSA"
   ]
  },
  {
   "cell_type": "code",
   "execution_count": 262,
   "id": "6fe5ffce-427f-4f23-a5b1-2abc4ae97b56",
   "metadata": {
    "tags": []
   },
   "outputs": [
    {
     "data": {
      "text/html": [
       "<div>\n",
       "<style scoped>\n",
       "    .dataframe tbody tr th:only-of-type {\n",
       "        vertical-align: middle;\n",
       "    }\n",
       "\n",
       "    .dataframe tbody tr th {\n",
       "        vertical-align: top;\n",
       "    }\n",
       "\n",
       "    .dataframe thead th {\n",
       "        text-align: right;\n",
       "    }\n",
       "</style>\n",
       "<table border=\"1\" class=\"dataframe\">\n",
       "  <thead>\n",
       "    <tr style=\"text-align: right;\">\n",
       "      <th></th>\n",
       "      <th>City</th>\n",
       "      <th>Year</th>\n",
       "      <th>Volume</th>\n",
       "    </tr>\n",
       "  </thead>\n",
       "  <tbody>\n",
       "    <tr>\n",
       "      <th>0</th>\n",
       "      <td>Riyadh</td>\n",
       "      <td>2016</td>\n",
       "      <td>1.409890e+06</td>\n",
       "    </tr>\n",
       "    <tr>\n",
       "      <th>1</th>\n",
       "      <td>Riyadh</td>\n",
       "      <td>2017</td>\n",
       "      <td>1.690540e+06</td>\n",
       "    </tr>\n",
       "    <tr>\n",
       "      <th>2</th>\n",
       "      <td>Riyadh</td>\n",
       "      <td>2018</td>\n",
       "      <td>5.082111e+06</td>\n",
       "    </tr>\n",
       "    <tr>\n",
       "      <th>3</th>\n",
       "      <td>Riyadh</td>\n",
       "      <td>2019</td>\n",
       "      <td>8.142886e+06</td>\n",
       "    </tr>\n",
       "    <tr>\n",
       "      <th>4</th>\n",
       "      <td>Riyadh</td>\n",
       "      <td>2020</td>\n",
       "      <td>3.911449e+06</td>\n",
       "    </tr>\n",
       "    <tr>\n",
       "      <th>5</th>\n",
       "      <td>Riyadh</td>\n",
       "      <td>2021</td>\n",
       "      <td>5.813692e+06</td>\n",
       "    </tr>\n",
       "    <tr>\n",
       "      <th>6</th>\n",
       "      <td>Riyadh</td>\n",
       "      <td>2022</td>\n",
       "      <td>6.017436e+06</td>\n",
       "    </tr>\n",
       "    <tr>\n",
       "      <th>7</th>\n",
       "      <td>Jeddah</td>\n",
       "      <td>2016</td>\n",
       "      <td>8.538390e+05</td>\n",
       "    </tr>\n",
       "    <tr>\n",
       "      <th>8</th>\n",
       "      <td>Jeddah</td>\n",
       "      <td>2017</td>\n",
       "      <td>1.161330e+06</td>\n",
       "    </tr>\n",
       "    <tr>\n",
       "      <th>9</th>\n",
       "      <td>Jeddah</td>\n",
       "      <td>2018</td>\n",
       "      <td>2.769926e+06</td>\n",
       "    </tr>\n",
       "    <tr>\n",
       "      <th>10</th>\n",
       "      <td>Jeddah</td>\n",
       "      <td>2019</td>\n",
       "      <td>4.033215e+06</td>\n",
       "    </tr>\n",
       "    <tr>\n",
       "      <th>11</th>\n",
       "      <td>Jeddah</td>\n",
       "      <td>2020</td>\n",
       "      <td>2.287532e+06</td>\n",
       "    </tr>\n",
       "    <tr>\n",
       "      <th>12</th>\n",
       "      <td>Jeddah</td>\n",
       "      <td>2021</td>\n",
       "      <td>3.992553e+06</td>\n",
       "    </tr>\n",
       "    <tr>\n",
       "      <th>13</th>\n",
       "      <td>Jeddah</td>\n",
       "      <td>2022</td>\n",
       "      <td>4.401483e+06</td>\n",
       "    </tr>\n",
       "    <tr>\n",
       "      <th>14</th>\n",
       "      <td>Al-madinah</td>\n",
       "      <td>2016</td>\n",
       "      <td>1.370140e+06</td>\n",
       "    </tr>\n",
       "    <tr>\n",
       "      <th>15</th>\n",
       "      <td>Al-madinah</td>\n",
       "      <td>2017</td>\n",
       "      <td>1.902894e+06</td>\n",
       "    </tr>\n",
       "    <tr>\n",
       "      <th>16</th>\n",
       "      <td>Al-madinah</td>\n",
       "      <td>2018</td>\n",
       "      <td>1.496747e+06</td>\n",
       "    </tr>\n",
       "    <tr>\n",
       "      <th>17</th>\n",
       "      <td>Al-madinah</td>\n",
       "      <td>2019</td>\n",
       "      <td>1.287501e+06</td>\n",
       "    </tr>\n",
       "    <tr>\n",
       "      <th>18</th>\n",
       "      <td>Al-madinah</td>\n",
       "      <td>2020</td>\n",
       "      <td>2.033550e+05</td>\n",
       "    </tr>\n",
       "    <tr>\n",
       "      <th>19</th>\n",
       "      <td>Al-madinah</td>\n",
       "      <td>2021</td>\n",
       "      <td>0.000000e+00</td>\n",
       "    </tr>\n",
       "    <tr>\n",
       "      <th>20</th>\n",
       "      <td>Al-madinah</td>\n",
       "      <td>2022</td>\n",
       "      <td>2.875390e+05</td>\n",
       "    </tr>\n",
       "    <tr>\n",
       "      <th>21</th>\n",
       "      <td>Dammam</td>\n",
       "      <td>2016</td>\n",
       "      <td>6.503630e+05</td>\n",
       "    </tr>\n",
       "    <tr>\n",
       "      <th>22</th>\n",
       "      <td>Dammam</td>\n",
       "      <td>2017</td>\n",
       "      <td>7.293285e+05</td>\n",
       "    </tr>\n",
       "    <tr>\n",
       "      <th>23</th>\n",
       "      <td>Dammam</td>\n",
       "      <td>2018</td>\n",
       "      <td>4.447464e+05</td>\n",
       "    </tr>\n",
       "    <tr>\n",
       "      <th>24</th>\n",
       "      <td>Dammam</td>\n",
       "      <td>2019</td>\n",
       "      <td>2.674010e+05</td>\n",
       "    </tr>\n",
       "    <tr>\n",
       "      <th>25</th>\n",
       "      <td>Dammam</td>\n",
       "      <td>2020</td>\n",
       "      <td>7.368333e+04</td>\n",
       "    </tr>\n",
       "    <tr>\n",
       "      <th>26</th>\n",
       "      <td>Dammam</td>\n",
       "      <td>2021</td>\n",
       "      <td>0.000000e+00</td>\n",
       "    </tr>\n",
       "    <tr>\n",
       "      <th>27</th>\n",
       "      <td>Dammam</td>\n",
       "      <td>2022</td>\n",
       "      <td>5.484900e+04</td>\n",
       "    </tr>\n",
       "  </tbody>\n",
       "</table>\n",
       "</div>"
      ],
      "text/plain": [
       "          City  Year        Volume\n",
       "0       Riyadh  2016  1.409890e+06\n",
       "1       Riyadh  2017  1.690540e+06\n",
       "2       Riyadh  2018  5.082111e+06\n",
       "3       Riyadh  2019  8.142886e+06\n",
       "4       Riyadh  2020  3.911449e+06\n",
       "5       Riyadh  2021  5.813692e+06\n",
       "6       Riyadh  2022  6.017436e+06\n",
       "7       Jeddah  2016  8.538390e+05\n",
       "8       Jeddah  2017  1.161330e+06\n",
       "9       Jeddah  2018  2.769926e+06\n",
       "10      Jeddah  2019  4.033215e+06\n",
       "11      Jeddah  2020  2.287532e+06\n",
       "12      Jeddah  2021  3.992553e+06\n",
       "13      Jeddah  2022  4.401483e+06\n",
       "14  Al-madinah  2016  1.370140e+06\n",
       "15  Al-madinah  2017  1.902894e+06\n",
       "16  Al-madinah  2018  1.496747e+06\n",
       "17  Al-madinah  2019  1.287501e+06\n",
       "18  Al-madinah  2020  2.033550e+05\n",
       "19  Al-madinah  2021  0.000000e+00\n",
       "20  Al-madinah  2022  2.875390e+05\n",
       "21      Dammam  2016  6.503630e+05\n",
       "22      Dammam  2017  7.293285e+05\n",
       "23      Dammam  2018  4.447464e+05\n",
       "24      Dammam  2019  2.674010e+05\n",
       "25      Dammam  2020  7.368333e+04\n",
       "26      Dammam  2021  0.000000e+00\n",
       "27      Dammam  2022  5.484900e+04"
      ]
     },
     "execution_count": 262,
     "metadata": {},
     "output_type": "execute_result"
    }
   ],
   "source": [
    "year = 2015\n",
    "for i in range(4): \n",
    "    for j in range(1,8):\n",
    "        TransKSA.loc[len(TransKSA)] = [public_transport_KSA.iloc[i][0], year+j, public_transport_KSA.iloc[i][j]]\n",
    "    year = 2015\n",
    "    \n",
    "TransKSA"
   ]
  },
  {
   "cell_type": "code",
   "execution_count": 263,
   "id": "583796c4-dade-44b8-a8ad-cc18e8c32ced",
   "metadata": {
    "tags": []
   },
   "outputs": [
    {
     "data": {
      "text/plain": [
       "City       object\n",
       "Year        int64\n",
       "Volume    float64\n",
       "dtype: object"
      ]
     },
     "execution_count": 263,
     "metadata": {},
     "output_type": "execute_result"
    }
   ],
   "source": [
    "TransKSA.dtypes"
   ]
  },
  {
   "cell_type": "code",
   "execution_count": 264,
   "id": "7e17499d-979d-44f3-b9f1-46876e441365",
   "metadata": {
    "tags": []
   },
   "outputs": [
    {
     "data": {
      "text/html": [
       "<div>\n",
       "<style scoped>\n",
       "    .dataframe tbody tr th:only-of-type {\n",
       "        vertical-align: middle;\n",
       "    }\n",
       "\n",
       "    .dataframe tbody tr th {\n",
       "        vertical-align: top;\n",
       "    }\n",
       "\n",
       "    .dataframe thead th {\n",
       "        text-align: right;\n",
       "    }\n",
       "</style>\n",
       "<table border=\"1\" class=\"dataframe\">\n",
       "  <thead>\n",
       "    <tr style=\"text-align: right;\">\n",
       "      <th></th>\n",
       "      <th>City</th>\n",
       "      <th>Year</th>\n",
       "      <th>Volume</th>\n",
       "    </tr>\n",
       "  </thead>\n",
       "  <tbody>\n",
       "    <tr>\n",
       "      <th>0</th>\n",
       "      <td>Riyadh</td>\n",
       "      <td>2016</td>\n",
       "      <td>1409890</td>\n",
       "    </tr>\n",
       "    <tr>\n",
       "      <th>1</th>\n",
       "      <td>Riyadh</td>\n",
       "      <td>2017</td>\n",
       "      <td>1690540</td>\n",
       "    </tr>\n",
       "    <tr>\n",
       "      <th>2</th>\n",
       "      <td>Riyadh</td>\n",
       "      <td>2018</td>\n",
       "      <td>5082110</td>\n",
       "    </tr>\n",
       "    <tr>\n",
       "      <th>3</th>\n",
       "      <td>Riyadh</td>\n",
       "      <td>2019</td>\n",
       "      <td>8142886</td>\n",
       "    </tr>\n",
       "    <tr>\n",
       "      <th>4</th>\n",
       "      <td>Riyadh</td>\n",
       "      <td>2020</td>\n",
       "      <td>3911449</td>\n",
       "    </tr>\n",
       "    <tr>\n",
       "      <th>5</th>\n",
       "      <td>Riyadh</td>\n",
       "      <td>2021</td>\n",
       "      <td>5813692</td>\n",
       "    </tr>\n",
       "    <tr>\n",
       "      <th>6</th>\n",
       "      <td>Riyadh</td>\n",
       "      <td>2022</td>\n",
       "      <td>6017436</td>\n",
       "    </tr>\n",
       "    <tr>\n",
       "      <th>7</th>\n",
       "      <td>Jeddah</td>\n",
       "      <td>2016</td>\n",
       "      <td>853839</td>\n",
       "    </tr>\n",
       "    <tr>\n",
       "      <th>8</th>\n",
       "      <td>Jeddah</td>\n",
       "      <td>2017</td>\n",
       "      <td>1161330</td>\n",
       "    </tr>\n",
       "    <tr>\n",
       "      <th>9</th>\n",
       "      <td>Jeddah</td>\n",
       "      <td>2018</td>\n",
       "      <td>2769925</td>\n",
       "    </tr>\n",
       "    <tr>\n",
       "      <th>10</th>\n",
       "      <td>Jeddah</td>\n",
       "      <td>2019</td>\n",
       "      <td>4033215</td>\n",
       "    </tr>\n",
       "    <tr>\n",
       "      <th>11</th>\n",
       "      <td>Jeddah</td>\n",
       "      <td>2020</td>\n",
       "      <td>2287532</td>\n",
       "    </tr>\n",
       "    <tr>\n",
       "      <th>12</th>\n",
       "      <td>Jeddah</td>\n",
       "      <td>2021</td>\n",
       "      <td>3992553</td>\n",
       "    </tr>\n",
       "    <tr>\n",
       "      <th>13</th>\n",
       "      <td>Jeddah</td>\n",
       "      <td>2022</td>\n",
       "      <td>4401483</td>\n",
       "    </tr>\n",
       "    <tr>\n",
       "      <th>14</th>\n",
       "      <td>Al-madinah</td>\n",
       "      <td>2016</td>\n",
       "      <td>1370139</td>\n",
       "    </tr>\n",
       "    <tr>\n",
       "      <th>15</th>\n",
       "      <td>Al-madinah</td>\n",
       "      <td>2017</td>\n",
       "      <td>1902893</td>\n",
       "    </tr>\n",
       "    <tr>\n",
       "      <th>16</th>\n",
       "      <td>Al-madinah</td>\n",
       "      <td>2018</td>\n",
       "      <td>1496747</td>\n",
       "    </tr>\n",
       "    <tr>\n",
       "      <th>17</th>\n",
       "      <td>Al-madinah</td>\n",
       "      <td>2019</td>\n",
       "      <td>1287501</td>\n",
       "    </tr>\n",
       "    <tr>\n",
       "      <th>18</th>\n",
       "      <td>Al-madinah</td>\n",
       "      <td>2020</td>\n",
       "      <td>203355</td>\n",
       "    </tr>\n",
       "    <tr>\n",
       "      <th>19</th>\n",
       "      <td>Al-madinah</td>\n",
       "      <td>2021</td>\n",
       "      <td>0</td>\n",
       "    </tr>\n",
       "    <tr>\n",
       "      <th>20</th>\n",
       "      <td>Al-madinah</td>\n",
       "      <td>2022</td>\n",
       "      <td>287539</td>\n",
       "    </tr>\n",
       "    <tr>\n",
       "      <th>21</th>\n",
       "      <td>Dammam</td>\n",
       "      <td>2016</td>\n",
       "      <td>650363</td>\n",
       "    </tr>\n",
       "    <tr>\n",
       "      <th>22</th>\n",
       "      <td>Dammam</td>\n",
       "      <td>2017</td>\n",
       "      <td>729328</td>\n",
       "    </tr>\n",
       "    <tr>\n",
       "      <th>23</th>\n",
       "      <td>Dammam</td>\n",
       "      <td>2018</td>\n",
       "      <td>444746</td>\n",
       "    </tr>\n",
       "    <tr>\n",
       "      <th>24</th>\n",
       "      <td>Dammam</td>\n",
       "      <td>2019</td>\n",
       "      <td>267401</td>\n",
       "    </tr>\n",
       "    <tr>\n",
       "      <th>25</th>\n",
       "      <td>Dammam</td>\n",
       "      <td>2020</td>\n",
       "      <td>73683</td>\n",
       "    </tr>\n",
       "    <tr>\n",
       "      <th>26</th>\n",
       "      <td>Dammam</td>\n",
       "      <td>2021</td>\n",
       "      <td>0</td>\n",
       "    </tr>\n",
       "    <tr>\n",
       "      <th>27</th>\n",
       "      <td>Dammam</td>\n",
       "      <td>2022</td>\n",
       "      <td>54849</td>\n",
       "    </tr>\n",
       "  </tbody>\n",
       "</table>\n",
       "</div>"
      ],
      "text/plain": [
       "          City  Year   Volume\n",
       "0       Riyadh  2016  1409890\n",
       "1       Riyadh  2017  1690540\n",
       "2       Riyadh  2018  5082110\n",
       "3       Riyadh  2019  8142886\n",
       "4       Riyadh  2020  3911449\n",
       "5       Riyadh  2021  5813692\n",
       "6       Riyadh  2022  6017436\n",
       "7       Jeddah  2016   853839\n",
       "8       Jeddah  2017  1161330\n",
       "9       Jeddah  2018  2769925\n",
       "10      Jeddah  2019  4033215\n",
       "11      Jeddah  2020  2287532\n",
       "12      Jeddah  2021  3992553\n",
       "13      Jeddah  2022  4401483\n",
       "14  Al-madinah  2016  1370139\n",
       "15  Al-madinah  2017  1902893\n",
       "16  Al-madinah  2018  1496747\n",
       "17  Al-madinah  2019  1287501\n",
       "18  Al-madinah  2020   203355\n",
       "19  Al-madinah  2021        0\n",
       "20  Al-madinah  2022   287539\n",
       "21      Dammam  2016   650363\n",
       "22      Dammam  2017   729328\n",
       "23      Dammam  2018   444746\n",
       "24      Dammam  2019   267401\n",
       "25      Dammam  2020    73683\n",
       "26      Dammam  2021        0\n",
       "27      Dammam  2022    54849"
      ]
     },
     "execution_count": 264,
     "metadata": {},
     "output_type": "execute_result"
    }
   ],
   "source": [
    "TransKSA['Volume'] = TransKSA['Volume'].astype('int64')\n",
    "TransKSA"
   ]
  },
  {
   "cell_type": "code",
   "execution_count": 280,
   "id": "eda3adc5-d42c-434d-94ef-cf9760434369",
   "metadata": {
    "tags": []
   },
   "outputs": [
    {
     "data": {
      "text/plain": [
       "City\n",
       "Al-madinah     6548174\n",
       "Dammam         2220370\n",
       "Jeddah        19499877\n",
       "Riyadh        32068003\n",
       "Name: Volume, dtype: int64"
      ]
     },
     "execution_count": 280,
     "metadata": {},
     "output_type": "execute_result"
    }
   ],
   "source": [
    "f = TransKSA.groupby('City')['Volume'].sum()\n",
    "f"
   ]
  },
  {
   "cell_type": "code",
   "execution_count": 282,
   "id": "4cbf46bb-0ed6-4762-beff-c1d057dc52d4",
   "metadata": {
    "tags": []
   },
   "outputs": [
    {
     "data": {
      "image/png": "[encoded data removed]",
      "text/plain": [
       "<Figure size 640x480 with 1 Axes>"
      ]
     },
     "metadata": {},
     "output_type": "display_data"
    }
   ],
   "source": [
    "plt.plot(\n",
    "    f.index, f.values,\n",
    "    marker='o', linestyle='--',\n",
    "    color='b', label='Volume'\n",
    ")\n",
    "\n",
    "plt.title('Public transportation Volume By City')\n",
    "plt.xlabel('City')\n",
    "plt.ylabel('Volume')\n",
    "plt.xticks(rotation=90)\n",
    "plt.show();"
   ]
  },
  {
   "cell_type": "markdown",
   "id": "3d714317-284c-4f68-88c6-d9a526c54835",
   "metadata": {},
   "source": [
    "# Insights: \n",
    "- thought the small number of people using public transportation in almadinah and dammam the numbers are high in riyadh and jeddah \n",
    "- the high number might be caused by the the high number of non-saudi but there is no solid data to prove so"
   ]
  },
  {
   "cell_type": "code",
   "execution_count": 283,
   "id": "bdaad783-f504-42f3-bf5c-f13d38941284",
   "metadata": {
    "tags": []
   },
   "outputs": [
    {
     "data": {
      "text/html": [
       "<div>\n",
       "<style scoped>\n",
       "    .dataframe tbody tr th:only-of-type {\n",
       "        vertical-align: middle;\n",
       "    }\n",
       "\n",
       "    .dataframe tbody tr th {\n",
       "        vertical-align: top;\n",
       "    }\n",
       "\n",
       "    .dataframe thead th {\n",
       "        text-align: right;\n",
       "    }\n",
       "</style>\n",
       "<table border=\"1\" class=\"dataframe\">\n",
       "  <thead>\n",
       "    <tr style=\"text-align: right;\">\n",
       "      <th></th>\n",
       "      <th>Year</th>\n",
       "      <th>Average Weekday</th>\n",
       "      <th>Average Saturday</th>\n",
       "      <th>Average Sunday</th>\n",
       "      <th>Average Weekend</th>\n",
       "      <th>Annual Total</th>\n",
       "    </tr>\n",
       "  </thead>\n",
       "  <tbody>\n",
       "    <tr>\n",
       "      <th>0</th>\n",
       "      <td>2016</td>\n",
       "      <td>2038119</td>\n",
       "      <td>1221299</td>\n",
       "      <td>957427</td>\n",
       "      <td>2178725</td>\n",
       "      <td>638413113</td>\n",
       "    </tr>\n",
       "    <tr>\n",
       "      <th>1</th>\n",
       "      <td>2017</td>\n",
       "      <td>1923993</td>\n",
       "      <td>1168978</td>\n",
       "      <td>923694</td>\n",
       "      <td>2092672</td>\n",
       "      <td>602620356</td>\n",
       "    </tr>\n",
       "    <tr>\n",
       "      <th>2</th>\n",
       "      <td>2018</td>\n",
       "      <td>1811605</td>\n",
       "      <td>1122626</td>\n",
       "      <td>868057</td>\n",
       "      <td>1990683</td>\n",
       "      <td>569361220</td>\n",
       "    </tr>\n",
       "    <tr>\n",
       "      <th>3</th>\n",
       "      <td>2019</td>\n",
       "      <td>1770394</td>\n",
       "      <td>1108809</td>\n",
       "      <td>847931</td>\n",
       "      <td>1956740</td>\n",
       "      <td>557036504</td>\n",
       "    </tr>\n",
       "    <tr>\n",
       "      <th>4</th>\n",
       "      <td>2020</td>\n",
       "      <td>980374</td>\n",
       "      <td>671835</td>\n",
       "      <td>532002</td>\n",
       "      <td>1203837</td>\n",
       "      <td>316768454</td>\n",
       "    </tr>\n",
       "    <tr>\n",
       "      <th>5</th>\n",
       "      <td>2021</td>\n",
       "      <td>984865</td>\n",
       "      <td>646302</td>\n",
       "      <td>482090</td>\n",
       "      <td>1128392</td>\n",
       "      <td>311893583</td>\n",
       "    </tr>\n",
       "  </tbody>\n",
       "</table>\n",
       "</div>"
      ],
      "text/plain": [
       "   Year  Average Weekday  Average Saturday  Average Sunday  Average Weekend  \\\n",
       "0  2016          2038119           1221299          957427          2178725   \n",
       "1  2017          1923993           1168978          923694          2092672   \n",
       "2  2018          1811605           1122626          868057          1990683   \n",
       "3  2019          1770394           1108809          847931          1956740   \n",
       "4  2020           980374            671835          532002          1203837   \n",
       "5  2021           984865            646302          482090          1128392   \n",
       "\n",
       "   Annual Total  \n",
       "0     638413113  \n",
       "1     602620356  \n",
       "2     569361220  \n",
       "3     557036504  \n",
       "4     316768454  \n",
       "5     311893583  "
      ]
     },
     "execution_count": 283,
     "metadata": {},
     "output_type": "execute_result"
    }
   ],
   "source": [
    "NYT = pd.read_csv(\"bus_ridership_New_York_City_Transit.csv\")\n",
    "NYT"
   ]
  },
  {
   "cell_type": "code",
   "execution_count": 284,
   "id": "5270fc6c-0c12-4294-b82f-714e374c15dc",
   "metadata": {
    "tags": []
   },
   "outputs": [
    {
     "data": {
      "text/plain": [
       "2996093230"
      ]
     },
     "execution_count": 284,
     "metadata": {},
     "output_type": "execute_result"
    }
   ],
   "source": [
    "NYT['Annual Total'].sum()"
   ]
  },
  {
   "cell_type": "code",
   "execution_count": 293,
   "id": "0d43557e-a1f5-4c0e-ade7-859b34c2db8a",
   "metadata": {
    "tags": []
   },
   "outputs": [
    {
     "data": {
      "text/html": [
       "<div>\n",
       "<style scoped>\n",
       "    .dataframe tbody tr th:only-of-type {\n",
       "        vertical-align: middle;\n",
       "    }\n",
       "\n",
       "    .dataframe tbody tr th {\n",
       "        vertical-align: top;\n",
       "    }\n",
       "\n",
       "    .dataframe thead th {\n",
       "        text-align: right;\n",
       "    }\n",
       "</style>\n",
       "<table border=\"1\" class=\"dataframe\">\n",
       "  <thead>\n",
       "    <tr style=\"text-align: right;\">\n",
       "      <th></th>\n",
       "      <th>Category</th>\n",
       "      <th>Volume</th>\n",
       "    </tr>\n",
       "  </thead>\n",
       "  <tbody>\n",
       "    <tr>\n",
       "      <th>1</th>\n",
       "      <td>KSA 2016 - 2022</td>\n",
       "      <td>60336424</td>\n",
       "    </tr>\n",
       "    <tr>\n",
       "      <th>2</th>\n",
       "      <td>NY 2016</td>\n",
       "      <td>2996093230</td>\n",
       "    </tr>\n",
       "  </tbody>\n",
       "</table>\n",
       "</div>"
      ],
      "text/plain": [
       "          Category      Volume\n",
       "1  KSA 2016 - 2022    60336424\n",
       "2          NY 2016  2996093230"
      ]
     },
     "execution_count": 293,
     "metadata": {},
     "output_type": "execute_result"
    }
   ],
   "source": [
    "x = pd.DataFrame(columns = ['Category', 'Volume'])\n",
    "x.loc[1] = [\"KSA 2016 - 2022\",TransKSA['Volume'].sum()]\n",
    "x.loc[2] = [\"NY 2016\",NYT['Annual Total'].sum()]\n",
    "x"
   ]
  },
  {
   "cell_type": "code",
   "execution_count": 294,
   "id": "9a6021cb-9979-4423-a5ea-1fca8aed03f2",
   "metadata": {
    "tags": []
   },
   "outputs": [
    {
     "data": {
      "text/plain": [
       "<BarContainer object of 2 artists>"
      ]
     },
     "execution_count": 294,
     "metadata": {},
     "output_type": "execute_result"
    },
    {
     "data": {
      "image/png": "[encoded data removed]",
      "text/plain": [
       "<Figure size 640x480 with 1 Axes>"
      ]
     },
     "metadata": {},
     "output_type": "display_data"
    }
   ],
   "source": [
    "plt.bar(x['Category'], x['Volume'])"
   ]
  },
  {
   "cell_type": "code",
   "execution_count": null,
   "id": "595f8fd1-4843-405e-bb57-248f71ca2844",
   "metadata": {},
   "outputs": [],
   "source": []
  }
 ],
 "metadata": {
  "kernelspec": {
   "display_name": "Python 3 (ipykernel)",
   "language": "python",
   "name": "python3"
  },
  "language_info": {
   "codemirror_mode": {
    "name": "ipython",
    "version": 3
   },
   "file_extension": ".py",
   "mimetype": "text/x-python",
   "name": "python",
   "nbconvert_exporter": "python",
   "pygments_lexer": "ipython3",
   "version": "3.11.5"
  }
 },
 "nbformat": 4,
 "nbformat_minor": 5
}
